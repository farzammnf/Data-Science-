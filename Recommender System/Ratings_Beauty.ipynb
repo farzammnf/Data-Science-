{
 "cells": [
  {
   "cell_type": "markdown",
   "id": "1885f2cc",
   "metadata": {},
   "source": [
    "Importing libraries"
   ]
  },
  {
   "cell_type": "code",
   "execution_count": 1,
   "id": "73a61384",
   "metadata": {},
   "outputs": [],
   "source": [
    "import numpy as np\n",
    "import pandas as pd\n",
    "import matplotlib.pyplot as plt\n",
    "\n",
    "# %matplotlib inline\n",
    "plt.style.use(\"ggplot\")\n",
    "\n",
    "import sklearn\n",
    "from sklearn.decomposition import TruncatedSVD"
   ]
  },
  {
   "cell_type": "code",
   "execution_count": 2,
   "id": "bcddf0da",
   "metadata": {},
   "outputs": [],
   "source": [
    "data = pd.read_csv('ratings_Beauty.csv')"
   ]
  },
  {
   "cell_type": "code",
   "execution_count": 3,
   "id": "9b99270c",
   "metadata": {},
   "outputs": [
    {
     "data": {
      "text/html": [
       "<div>\n",
       "<style scoped>\n",
       "    .dataframe tbody tr th:only-of-type {\n",
       "        vertical-align: middle;\n",
       "    }\n",
       "\n",
       "    .dataframe tbody tr th {\n",
       "        vertical-align: top;\n",
       "    }\n",
       "\n",
       "    .dataframe thead th {\n",
       "        text-align: right;\n",
       "    }\n",
       "</style>\n",
       "<table border=\"1\" class=\"dataframe\">\n",
       "  <thead>\n",
       "    <tr style=\"text-align: right;\">\n",
       "      <th></th>\n",
       "      <th>UserId</th>\n",
       "      <th>ProductId</th>\n",
       "      <th>Rating</th>\n",
       "      <th>Timestamp</th>\n",
       "    </tr>\n",
       "  </thead>\n",
       "  <tbody>\n",
       "    <tr>\n",
       "      <th>0</th>\n",
       "      <td>A39HTATAQ9V7YF</td>\n",
       "      <td>0205616461</td>\n",
       "      <td>5.0</td>\n",
       "      <td>1369699200</td>\n",
       "    </tr>\n",
       "    <tr>\n",
       "      <th>1</th>\n",
       "      <td>A3JM6GV9MNOF9X</td>\n",
       "      <td>0558925278</td>\n",
       "      <td>3.0</td>\n",
       "      <td>1355443200</td>\n",
       "    </tr>\n",
       "    <tr>\n",
       "      <th>2</th>\n",
       "      <td>A1Z513UWSAAO0F</td>\n",
       "      <td>0558925278</td>\n",
       "      <td>5.0</td>\n",
       "      <td>1404691200</td>\n",
       "    </tr>\n",
       "    <tr>\n",
       "      <th>3</th>\n",
       "      <td>A1WMRR494NWEWV</td>\n",
       "      <td>0733001998</td>\n",
       "      <td>4.0</td>\n",
       "      <td>1382572800</td>\n",
       "    </tr>\n",
       "    <tr>\n",
       "      <th>4</th>\n",
       "      <td>A3IAAVS479H7M7</td>\n",
       "      <td>0737104473</td>\n",
       "      <td>1.0</td>\n",
       "      <td>1274227200</td>\n",
       "    </tr>\n",
       "  </tbody>\n",
       "</table>\n",
       "</div>"
      ],
      "text/plain": [
       "           UserId   ProductId  Rating   Timestamp\n",
       "0  A39HTATAQ9V7YF  0205616461     5.0  1369699200\n",
       "1  A3JM6GV9MNOF9X  0558925278     3.0  1355443200\n",
       "2  A1Z513UWSAAO0F  0558925278     5.0  1404691200\n",
       "3  A1WMRR494NWEWV  0733001998     4.0  1382572800\n",
       "4  A3IAAVS479H7M7  0737104473     1.0  1274227200"
      ]
     },
     "execution_count": 3,
     "metadata": {},
     "output_type": "execute_result"
    }
   ],
   "source": [
    "data.head()"
   ]
  },
  {
   "cell_type": "code",
   "execution_count": 4,
   "id": "5ce519be",
   "metadata": {},
   "outputs": [
    {
     "data": {
      "text/plain": [
       "(2023070, 4)"
      ]
     },
     "execution_count": 4,
     "metadata": {},
     "output_type": "execute_result"
    }
   ],
   "source": [
    "data.shape"
   ]
  },
  {
   "cell_type": "code",
   "execution_count": 5,
   "id": "1f989ddc",
   "metadata": {},
   "outputs": [
    {
     "data": {
      "text/plain": [
       "UserId       0\n",
       "ProductId    0\n",
       "Rating       0\n",
       "Timestamp    0\n",
       "dtype: int64"
      ]
     },
     "execution_count": 5,
     "metadata": {},
     "output_type": "execute_result"
    }
   ],
   "source": [
    "data.isnull().sum() "
   ]
  },
  {
   "cell_type": "code",
   "execution_count": 6,
   "id": "52579e6c",
   "metadata": {},
   "outputs": [
    {
     "name": "stdout",
     "output_type": "stream",
     "text": [
      "<class 'pandas.core.frame.DataFrame'>\n",
      "RangeIndex: 2023070 entries, 0 to 2023069\n",
      "Data columns (total 4 columns):\n",
      " #   Column     Dtype  \n",
      "---  ------     -----  \n",
      " 0   UserId     object \n",
      " 1   ProductId  object \n",
      " 2   Rating     float64\n",
      " 3   Timestamp  int64  \n",
      "dtypes: float64(1), int64(1), object(2)\n",
      "memory usage: 61.7+ MB\n"
     ]
    }
   ],
   "source": [
    "data.info()"
   ]
  },
  {
   "cell_type": "code",
   "execution_count": 7,
   "id": "509876c0",
   "metadata": {},
   "outputs": [
    {
     "data": {
      "text/html": [
       "<div>\n",
       "<style scoped>\n",
       "    .dataframe tbody tr th:only-of-type {\n",
       "        vertical-align: middle;\n",
       "    }\n",
       "\n",
       "    .dataframe tbody tr th {\n",
       "        vertical-align: top;\n",
       "    }\n",
       "\n",
       "    .dataframe thead th {\n",
       "        text-align: right;\n",
       "    }\n",
       "</style>\n",
       "<table border=\"1\" class=\"dataframe\">\n",
       "  <thead>\n",
       "    <tr style=\"text-align: right;\">\n",
       "      <th></th>\n",
       "      <th>Rating</th>\n",
       "      <th>Timestamp</th>\n",
       "    </tr>\n",
       "  </thead>\n",
       "  <tbody>\n",
       "    <tr>\n",
       "      <th>count</th>\n",
       "      <td>2.023070e+06</td>\n",
       "      <td>2.023070e+06</td>\n",
       "    </tr>\n",
       "    <tr>\n",
       "      <th>mean</th>\n",
       "      <td>4.149036e+00</td>\n",
       "      <td>1.360389e+09</td>\n",
       "    </tr>\n",
       "    <tr>\n",
       "      <th>std</th>\n",
       "      <td>1.311505e+00</td>\n",
       "      <td>4.611860e+07</td>\n",
       "    </tr>\n",
       "    <tr>\n",
       "      <th>min</th>\n",
       "      <td>1.000000e+00</td>\n",
       "      <td>9.087552e+08</td>\n",
       "    </tr>\n",
       "    <tr>\n",
       "      <th>25%</th>\n",
       "      <td>4.000000e+00</td>\n",
       "      <td>1.350259e+09</td>\n",
       "    </tr>\n",
       "    <tr>\n",
       "      <th>50%</th>\n",
       "      <td>5.000000e+00</td>\n",
       "      <td>1.372810e+09</td>\n",
       "    </tr>\n",
       "    <tr>\n",
       "      <th>75%</th>\n",
       "      <td>5.000000e+00</td>\n",
       "      <td>1.391472e+09</td>\n",
       "    </tr>\n",
       "    <tr>\n",
       "      <th>max</th>\n",
       "      <td>5.000000e+00</td>\n",
       "      <td>1.406074e+09</td>\n",
       "    </tr>\n",
       "  </tbody>\n",
       "</table>\n",
       "</div>"
      ],
      "text/plain": [
       "             Rating     Timestamp\n",
       "count  2.023070e+06  2.023070e+06\n",
       "mean   4.149036e+00  1.360389e+09\n",
       "std    1.311505e+00  4.611860e+07\n",
       "min    1.000000e+00  9.087552e+08\n",
       "25%    4.000000e+00  1.350259e+09\n",
       "50%    5.000000e+00  1.372810e+09\n",
       "75%    5.000000e+00  1.391472e+09\n",
       "max    5.000000e+00  1.406074e+09"
      ]
     },
     "execution_count": 7,
     "metadata": {},
     "output_type": "execute_result"
    }
   ],
   "source": [
    "data.describe()"
   ]
  },
  {
   "cell_type": "code",
   "execution_count": 10,
   "id": "5bdd2bc0",
   "metadata": {},
   "outputs": [
    {
     "data": {
      "text/plain": [
       "<Axes: xlabel='Rating', ylabel='count'>"
      ]
     },
     "execution_count": 10,
     "metadata": {},
     "output_type": "execute_result"
    },
    {
     "data": {
      "image/png": "[encoded data removed]",
      "text/plain": [
       "<Figure size 640x480 with 1 Axes>"
      ]
     },
     "metadata": {},
     "output_type": "display_data"
    }
   ],
   "source": [
    "import seaborn as sns\n",
    "sns.countplot(x='Rating',data=data) #count number of every rating graphically"
   ]
  },
  {
   "cell_type": "code",
   "execution_count": 9,
   "id": "2ed0849c",
   "metadata": {},
   "outputs": [
    {
     "data": {
      "text/plain": [
       "Rating\n",
       "1.0     183784\n",
       "2.0     113034\n",
       "3.0     169791\n",
       "4.0     307740\n",
       "5.0    1248721\n",
       "Name: UserId, dtype: int64"
      ]
     },
     "execution_count": 9,
     "metadata": {},
     "output_type": "execute_result"
    }
   ],
   "source": [
    "data.groupby('Rating')['UserId'].count() #How many user give each rating"
   ]
  },
  {
   "cell_type": "code",
   "execution_count": 10,
   "id": "85a60539",
   "metadata": {},
   "outputs": [
    {
     "data": {
      "text/html": [
       "<div>\n",
       "<style scoped>\n",
       "    .dataframe tbody tr th:only-of-type {\n",
       "        vertical-align: middle;\n",
       "    }\n",
       "\n",
       "    .dataframe tbody tr th {\n",
       "        vertical-align: top;\n",
       "    }\n",
       "\n",
       "    .dataframe thead th {\n",
       "        text-align: right;\n",
       "    }\n",
       "</style>\n",
       "<table border=\"1\" class=\"dataframe\">\n",
       "  <thead>\n",
       "    <tr style=\"text-align: right;\">\n",
       "      <th></th>\n",
       "      <th>Rating</th>\n",
       "      <th>number of rating</th>\n",
       "    </tr>\n",
       "    <tr>\n",
       "      <th>ProductId</th>\n",
       "      <th></th>\n",
       "      <th></th>\n",
       "    </tr>\n",
       "  </thead>\n",
       "  <tbody>\n",
       "    <tr>\n",
       "      <th>B001MA0QY2</th>\n",
       "      <td>4.321386</td>\n",
       "      <td>7533</td>\n",
       "    </tr>\n",
       "    <tr>\n",
       "      <th>B0009V1YR8</th>\n",
       "      <td>3.568839</td>\n",
       "      <td>2869</td>\n",
       "    </tr>\n",
       "    <tr>\n",
       "      <th>B0043OYFKU</th>\n",
       "      <td>4.310456</td>\n",
       "      <td>2477</td>\n",
       "    </tr>\n",
       "    <tr>\n",
       "      <th>B0000YUXI0</th>\n",
       "      <td>4.405040</td>\n",
       "      <td>2143</td>\n",
       "    </tr>\n",
       "    <tr>\n",
       "      <th>B003V265QW</th>\n",
       "      <td>4.365421</td>\n",
       "      <td>2088</td>\n",
       "    </tr>\n",
       "    <tr>\n",
       "      <th>...</th>\n",
       "      <td>...</td>\n",
       "      <td>...</td>\n",
       "    </tr>\n",
       "    <tr>\n",
       "      <th>B0013H228W</th>\n",
       "      <td>5.000000</td>\n",
       "      <td>1</td>\n",
       "    </tr>\n",
       "    <tr>\n",
       "      <th>B0013GNAIE</th>\n",
       "      <td>5.000000</td>\n",
       "      <td>1</td>\n",
       "    </tr>\n",
       "    <tr>\n",
       "      <th>B0013GNAG6</th>\n",
       "      <td>5.000000</td>\n",
       "      <td>1</td>\n",
       "    </tr>\n",
       "    <tr>\n",
       "      <th>B0013GMDT6</th>\n",
       "      <td>5.000000</td>\n",
       "      <td>1</td>\n",
       "    </tr>\n",
       "    <tr>\n",
       "      <th>B00740KNT2</th>\n",
       "      <td>1.000000</td>\n",
       "      <td>1</td>\n",
       "    </tr>\n",
       "  </tbody>\n",
       "</table>\n",
       "<p>249274 rows × 2 columns</p>\n",
       "</div>"
      ],
      "text/plain": [
       "              Rating  number of rating\n",
       "ProductId                             \n",
       "B001MA0QY2  4.321386              7533\n",
       "B0009V1YR8  3.568839              2869\n",
       "B0043OYFKU  4.310456              2477\n",
       "B0000YUXI0  4.405040              2143\n",
       "B003V265QW  4.365421              2088\n",
       "...              ...               ...\n",
       "B0013H228W  5.000000                 1\n",
       "B0013GNAIE  5.000000                 1\n",
       "B0013GNAG6  5.000000                 1\n",
       "B0013GMDT6  5.000000                 1\n",
       "B00740KNT2  1.000000                 1\n",
       "\n",
       "[249274 rows x 2 columns]"
      ]
     },
     "execution_count": 10,
     "metadata": {},
     "output_type": "execute_result"
    }
   ],
   "source": [
    "#create a dataframe with average rating in one column\n",
    "rating= pd.DataFrame(data.groupby('ProductId')['Rating'].mean().sort_values(ascending=False))\n",
    "\n",
    "#create another column with number of rating given to that product\n",
    "rating['number of rating'] = pd.DataFrame(data.groupby('ProductId')['Rating'].count().sort_values(ascending=False))\n",
    "rating.sort_values('number of rating',ascending=False)"
   ]
  },
  {
   "cell_type": "code",
   "execution_count": 11,
   "id": "615a0703",
   "metadata": {},
   "outputs": [
    {
     "data": {
      "text/plain": [
       "<Axes: xlabel='ProductId'>"
      ]
     },
     "execution_count": 11,
     "metadata": {},
     "output_type": "execute_result"
    },
    {
     "data": {
      "image/png": "[encoded data removed]",
      "text/plain": [
       "<Figure size 640x480 with 1 Axes>"
      ]
     },
     "metadata": {},
     "output_type": "display_data"
    }
   ],
   "source": [
    "#Top 20 products sell by ecommerce website shown graphically\n",
    "\n",
    "rating[['number of rating']].sort_values('number of rating',ascending=False).head(20).plot(kind='bar')"
   ]
  },
  {
   "cell_type": "markdown",
   "id": "1a32ed7d",
   "metadata": {},
   "source": [
    "Analysis:\n",
    "\n",
    "- The above graph gives us the most popular products (arranged in descending order) sold by the business.\n",
    "\n",
    "- For eaxmple, product, ID # B001MA0QY2 has sales of over 7000, the next most popular product, ID # B0009V1YR8 has sales of 3000, etc."
   ]
  },
  {
   "cell_type": "code",
   "execution_count": 12,
   "id": "229c2c24",
   "metadata": {},
   "outputs": [
    {
     "data": {
      "text/plain": [
       "<seaborn.axisgrid.JointGrid at 0x1df63956290>"
      ]
     },
     "execution_count": 12,
     "metadata": {},
     "output_type": "execute_result"
    },
    {
     "data": {
      "image/png": "[encoded data removed]",
      "text/plain": [
       "<Figure size 600x600 with 3 Axes>"
      ]
     },
     "metadata": {},
     "output_type": "display_data"
    }
   ],
   "source": [
    "#This graph doesn't add much insight but we can figure out that most of the 5 rating given by very few users. \n",
    "sns.jointplot(x='Rating',y='number of rating',data=rating)"
   ]
  },
  {
   "cell_type": "code",
   "execution_count": null,
   "id": "5b8e1362",
   "metadata": {},
   "outputs": [],
   "source": [
    "Time-based Analysis:"
   ]
  },
  {
   "cell_type": "code",
   "execution_count": 29,
   "id": "0118d7f5",
   "metadata": {},
   "outputs": [
    {
     "data": {
      "image/png": "[encoded data removed]",
      "text/plain": [
       "<Figure size 640x480 with 1 Axes>"
      ]
     },
     "metadata": {},
     "output_type": "display_data"
    }
   ],
   "source": [
    "# Convert timestamp to datetime\n",
    "data['Datetime'] = pd.to_datetime(data['Timestamp'], unit='s')\n",
    "\n",
    "# Plot the number of ratings over time\n",
    "data.set_index('Datetime').resample('M')['Rating'].count().plot()\n",
    "plt.title('Number of Ratings Over Time')\n",
    "plt.xlabel('Time')\n",
    "plt.ylabel('Count')\n",
    "plt.show()\n"
   ]
  },
  {
   "cell_type": "code",
   "execution_count": 30,
   "id": "deaf7fe6",
   "metadata": {},
   "outputs": [
    {
     "name": "stdout",
     "output_type": "stream",
     "text": [
      "Number of unique users: 1210271\n",
      "Number of unique products: 249274\n"
     ]
    }
   ],
   "source": [
    "# Display the number of unique users and products\n",
    "num_users = data['UserId'].nunique()\n",
    "num_products = data['ProductId'].nunique()\n",
    "print(f\"Number of unique users: {num_users}\")\n",
    "print(f\"Number of unique products: {num_products}\")\n"
   ]
  },
  {
   "cell_type": "code",
   "execution_count": 31,
   "id": "4751460a",
   "metadata": {},
   "outputs": [
    {
     "name": "stderr",
     "output_type": "stream",
     "text": [
      "C:\\Users\\ASUS\\AppData\\Local\\Temp\\ipykernel_9648\\3492086043.py:4: FutureWarning: The default value of numeric_only in DataFrame.corr is deprecated. In a future version, it will default to False. Select only valid columns or specify the value of numeric_only to silence this warning.\n",
      "  corr_matrix = data.corr()\n"
     ]
    },
    {
     "data": {
      "image/png": "[encoded data removed]",
      "text/plain": [
       "<Figure size 640x480 with 2 Axes>"
      ]
     },
     "metadata": {},
     "output_type": "display_data"
    }
   ],
   "source": [
    "# Display a correlation heatmap\n",
    "import seaborn as sns\n",
    "\n",
    "corr_matrix = data.corr()\n",
    "sns.heatmap(corr_matrix, annot=True, cmap='coolwarm', linewidths=0.5)\n",
    "plt.title('Correlation Heatmap')\n",
    "plt.show()\n"
   ]
  },
  {
   "cell_type": "markdown",
   "id": "1d2c7784",
   "metadata": {},
   "source": [
    "# Model-based collaborative filtering system"
   ]
  },
  {
   "cell_type": "markdown",
   "id": "2080f0ff",
   "metadata": {},
   "source": [
    "We will use Collaborative Filtering approach to recommend items to user.\n",
    "We will Recommend items to user based on purchase history and similarity of ratings provided by other users who bought items same as that particular customer."
   ]
  },
  {
   "cell_type": "markdown",
   "id": "4a784215",
   "metadata": {},
   "source": [
    "Recommend items to users based on purchase history and similarity of ratings provided by other users who bought items to that of a particular customer.\n",
    "A model based collaborative filtering technique is closen here as it helps in making predictinfg products for a particular user by identifying patterns based on preferences from multiple user data.\n",
    "Utility Matrix based on products sold and user reviews\n",
    "Utility Matrix : An utlity matrix is consists of all possible user-item preferences (ratings) details represented as a matrix. The utility matrix is sparce as none of the users would buy all teh items in the list, hence, most of the values are unknown."
   ]
  },
  {
   "cell_type": "code",
   "execution_count": 8,
   "id": "9922b4cc",
   "metadata": {},
   "outputs": [
    {
     "data": {
      "text/html": [
       "<div>\n",
       "<style scoped>\n",
       "    .dataframe tbody tr th:only-of-type {\n",
       "        vertical-align: middle;\n",
       "    }\n",
       "\n",
       "    .dataframe tbody tr th {\n",
       "        vertical-align: top;\n",
       "    }\n",
       "\n",
       "    .dataframe thead th {\n",
       "        text-align: right;\n",
       "    }\n",
       "</style>\n",
       "<table border=\"1\" class=\"dataframe\">\n",
       "  <thead>\n",
       "    <tr style=\"text-align: right;\">\n",
       "      <th>ProductId</th>\n",
       "      <th>0205616461</th>\n",
       "      <th>0558925278</th>\n",
       "      <th>0733001998</th>\n",
       "      <th>0737104473</th>\n",
       "      <th>0762451459</th>\n",
       "      <th>1304139212</th>\n",
       "      <th>1304139220</th>\n",
       "      <th>130414089X</th>\n",
       "      <th>130414643X</th>\n",
       "      <th>1304146537</th>\n",
       "      <th>...</th>\n",
       "      <th>B000052YPE</th>\n",
       "      <th>B000052YPF</th>\n",
       "      <th>B000052YPG</th>\n",
       "      <th>B000052YPH</th>\n",
       "      <th>B000052YPM</th>\n",
       "      <th>B000052YPU</th>\n",
       "      <th>B000052YPV</th>\n",
       "      <th>B000052YPY</th>\n",
       "      <th>B000052YQ0</th>\n",
       "      <th>B000052YQ2</th>\n",
       "    </tr>\n",
       "    <tr>\n",
       "      <th>UserId</th>\n",
       "      <th></th>\n",
       "      <th></th>\n",
       "      <th></th>\n",
       "      <th></th>\n",
       "      <th></th>\n",
       "      <th></th>\n",
       "      <th></th>\n",
       "      <th></th>\n",
       "      <th></th>\n",
       "      <th></th>\n",
       "      <th></th>\n",
       "      <th></th>\n",
       "      <th></th>\n",
       "      <th></th>\n",
       "      <th></th>\n",
       "      <th></th>\n",
       "      <th></th>\n",
       "      <th></th>\n",
       "      <th></th>\n",
       "      <th></th>\n",
       "      <th></th>\n",
       "    </tr>\n",
       "  </thead>\n",
       "  <tbody>\n",
       "    <tr>\n",
       "      <th>A00205921JHJK5X9LNP42</th>\n",
       "      <td>NaN</td>\n",
       "      <td>NaN</td>\n",
       "      <td>NaN</td>\n",
       "      <td>NaN</td>\n",
       "      <td>NaN</td>\n",
       "      <td>NaN</td>\n",
       "      <td>NaN</td>\n",
       "      <td>NaN</td>\n",
       "      <td>NaN</td>\n",
       "      <td>NaN</td>\n",
       "      <td>...</td>\n",
       "      <td>NaN</td>\n",
       "      <td>NaN</td>\n",
       "      <td>NaN</td>\n",
       "      <td>NaN</td>\n",
       "      <td>NaN</td>\n",
       "      <td>NaN</td>\n",
       "      <td>NaN</td>\n",
       "      <td>NaN</td>\n",
       "      <td>NaN</td>\n",
       "      <td>NaN</td>\n",
       "    </tr>\n",
       "    <tr>\n",
       "      <th>A024581134CV80ZBLIZTZ</th>\n",
       "      <td>NaN</td>\n",
       "      <td>NaN</td>\n",
       "      <td>NaN</td>\n",
       "      <td>NaN</td>\n",
       "      <td>NaN</td>\n",
       "      <td>NaN</td>\n",
       "      <td>NaN</td>\n",
       "      <td>NaN</td>\n",
       "      <td>NaN</td>\n",
       "      <td>NaN</td>\n",
       "      <td>...</td>\n",
       "      <td>NaN</td>\n",
       "      <td>NaN</td>\n",
       "      <td>NaN</td>\n",
       "      <td>NaN</td>\n",
       "      <td>NaN</td>\n",
       "      <td>NaN</td>\n",
       "      <td>NaN</td>\n",
       "      <td>NaN</td>\n",
       "      <td>NaN</td>\n",
       "      <td>NaN</td>\n",
       "    </tr>\n",
       "    <tr>\n",
       "      <th>A03056581JJIOL5FSKJY7</th>\n",
       "      <td>NaN</td>\n",
       "      <td>NaN</td>\n",
       "      <td>NaN</td>\n",
       "      <td>NaN</td>\n",
       "      <td>NaN</td>\n",
       "      <td>NaN</td>\n",
       "      <td>NaN</td>\n",
       "      <td>NaN</td>\n",
       "      <td>NaN</td>\n",
       "      <td>NaN</td>\n",
       "      <td>...</td>\n",
       "      <td>NaN</td>\n",
       "      <td>NaN</td>\n",
       "      <td>NaN</td>\n",
       "      <td>NaN</td>\n",
       "      <td>NaN</td>\n",
       "      <td>NaN</td>\n",
       "      <td>NaN</td>\n",
       "      <td>NaN</td>\n",
       "      <td>NaN</td>\n",
       "      <td>NaN</td>\n",
       "    </tr>\n",
       "    <tr>\n",
       "      <th>A03099101ZRK4K607JVHH</th>\n",
       "      <td>NaN</td>\n",
       "      <td>NaN</td>\n",
       "      <td>NaN</td>\n",
       "      <td>NaN</td>\n",
       "      <td>NaN</td>\n",
       "      <td>NaN</td>\n",
       "      <td>NaN</td>\n",
       "      <td>NaN</td>\n",
       "      <td>NaN</td>\n",
       "      <td>NaN</td>\n",
       "      <td>...</td>\n",
       "      <td>NaN</td>\n",
       "      <td>NaN</td>\n",
       "      <td>NaN</td>\n",
       "      <td>NaN</td>\n",
       "      <td>NaN</td>\n",
       "      <td>NaN</td>\n",
       "      <td>NaN</td>\n",
       "      <td>NaN</td>\n",
       "      <td>NaN</td>\n",
       "      <td>NaN</td>\n",
       "    </tr>\n",
       "    <tr>\n",
       "      <th>A0505229A7NSH3FRXRR4</th>\n",
       "      <td>NaN</td>\n",
       "      <td>NaN</td>\n",
       "      <td>NaN</td>\n",
       "      <td>NaN</td>\n",
       "      <td>NaN</td>\n",
       "      <td>NaN</td>\n",
       "      <td>NaN</td>\n",
       "      <td>NaN</td>\n",
       "      <td>NaN</td>\n",
       "      <td>NaN</td>\n",
       "      <td>...</td>\n",
       "      <td>NaN</td>\n",
       "      <td>NaN</td>\n",
       "      <td>NaN</td>\n",
       "      <td>NaN</td>\n",
       "      <td>NaN</td>\n",
       "      <td>NaN</td>\n",
       "      <td>NaN</td>\n",
       "      <td>NaN</td>\n",
       "      <td>NaN</td>\n",
       "      <td>NaN</td>\n",
       "    </tr>\n",
       "  </tbody>\n",
       "</table>\n",
       "<p>5 rows × 886 columns</p>\n",
       "</div>"
      ],
      "text/plain": [
       "ProductId              0205616461  0558925278  0733001998  0737104473  \\\n",
       "UserId                                                                  \n",
       "A00205921JHJK5X9LNP42         NaN         NaN         NaN         NaN   \n",
       "A024581134CV80ZBLIZTZ         NaN         NaN         NaN         NaN   \n",
       "A03056581JJIOL5FSKJY7         NaN         NaN         NaN         NaN   \n",
       "A03099101ZRK4K607JVHH         NaN         NaN         NaN         NaN   \n",
       "A0505229A7NSH3FRXRR4          NaN         NaN         NaN         NaN   \n",
       "\n",
       "ProductId              0762451459  1304139212  1304139220  130414089X  \\\n",
       "UserId                                                                  \n",
       "A00205921JHJK5X9LNP42         NaN         NaN         NaN         NaN   \n",
       "A024581134CV80ZBLIZTZ         NaN         NaN         NaN         NaN   \n",
       "A03056581JJIOL5FSKJY7         NaN         NaN         NaN         NaN   \n",
       "A03099101ZRK4K607JVHH         NaN         NaN         NaN         NaN   \n",
       "A0505229A7NSH3FRXRR4          NaN         NaN         NaN         NaN   \n",
       "\n",
       "ProductId              130414643X  1304146537  ...  B000052YPE  B000052YPF  \\\n",
       "UserId                                         ...                           \n",
       "A00205921JHJK5X9LNP42         NaN         NaN  ...         NaN         NaN   \n",
       "A024581134CV80ZBLIZTZ         NaN         NaN  ...         NaN         NaN   \n",
       "A03056581JJIOL5FSKJY7         NaN         NaN  ...         NaN         NaN   \n",
       "A03099101ZRK4K607JVHH         NaN         NaN  ...         NaN         NaN   \n",
       "A0505229A7NSH3FRXRR4          NaN         NaN  ...         NaN         NaN   \n",
       "\n",
       "ProductId              B000052YPG  B000052YPH  B000052YPM  B000052YPU  \\\n",
       "UserId                                                                  \n",
       "A00205921JHJK5X9LNP42         NaN         NaN         NaN         NaN   \n",
       "A024581134CV80ZBLIZTZ         NaN         NaN         NaN         NaN   \n",
       "A03056581JJIOL5FSKJY7         NaN         NaN         NaN         NaN   \n",
       "A03099101ZRK4K607JVHH         NaN         NaN         NaN         NaN   \n",
       "A0505229A7NSH3FRXRR4          NaN         NaN         NaN         NaN   \n",
       "\n",
       "ProductId              B000052YPV  B000052YPY  B000052YQ0  B000052YQ2  \n",
       "UserId                                                                 \n",
       "A00205921JHJK5X9LNP42         NaN         NaN         NaN         NaN  \n",
       "A024581134CV80ZBLIZTZ         NaN         NaN         NaN         NaN  \n",
       "A03056581JJIOL5FSKJY7         NaN         NaN         NaN         NaN  \n",
       "A03099101ZRK4K607JVHH         NaN         NaN         NaN         NaN  \n",
       "A0505229A7NSH3FRXRR4          NaN         NaN         NaN         NaN  \n",
       "\n",
       "[5 rows x 886 columns]"
      ]
     },
     "execution_count": 8,
     "metadata": {},
     "output_type": "execute_result"
    }
   ],
   "source": [
    "#As data is huge so we take a fraction of the data so that we can create a user item matrix. \n",
    "\n",
    "data1 = data.head(10000)\n",
    "ratings_utility_matrix = data1.pivot_table(values='Rating', index='UserId', columns='ProductId')\n",
    "ratings_utility_matrix.head()"
   ]
  },
  {
   "cell_type": "code",
   "execution_count": 9,
   "id": "a5645ef5",
   "metadata": {},
   "outputs": [
    {
     "data": {
      "text/plain": [
       "(9697, 886)"
      ]
     },
     "execution_count": 9,
     "metadata": {},
     "output_type": "execute_result"
    }
   ],
   "source": [
    "ratings_utility_matrix.shape"
   ]
  },
  {
   "cell_type": "markdown",
   "id": "d74ded68",
   "metadata": {},
   "source": [
    "This matrix is consists of all possible user-item preferences (ratings) details represented as a matrix.\n",
    "\n",
    "As you can see, Most of the values in utility matrix is not filled, which is expected because every user can not give rating to all products. That's why fill NaN values with 0."
   ]
  },
  {
   "cell_type": "code",
   "execution_count": 12,
   "id": "23661824",
   "metadata": {},
   "outputs": [],
   "source": [
    "ratings_utility_matrix.fillna(0, inplace=True)"
   ]
  },
  {
   "cell_type": "code",
   "execution_count": 13,
   "id": "6e2082db",
   "metadata": {},
   "outputs": [],
   "source": [
    "# Transpose the matrix\n",
    "X = ratings_utility_matrix.T"
   ]
  },
  {
   "cell_type": "code",
   "execution_count": 14,
   "id": "a8a47b06",
   "metadata": {},
   "outputs": [
    {
     "data": {
      "text/html": [
       "<div>\n",
       "<style scoped>\n",
       "    .dataframe tbody tr th:only-of-type {\n",
       "        vertical-align: middle;\n",
       "    }\n",
       "\n",
       "    .dataframe tbody tr th {\n",
       "        vertical-align: top;\n",
       "    }\n",
       "\n",
       "    .dataframe thead th {\n",
       "        text-align: right;\n",
       "    }\n",
       "</style>\n",
       "<table border=\"1\" class=\"dataframe\">\n",
       "  <thead>\n",
       "    <tr style=\"text-align: right;\">\n",
       "      <th>UserId</th>\n",
       "      <th>A00205921JHJK5X9LNP42</th>\n",
       "      <th>A024581134CV80ZBLIZTZ</th>\n",
       "      <th>A03056581JJIOL5FSKJY7</th>\n",
       "      <th>A03099101ZRK4K607JVHH</th>\n",
       "      <th>A0505229A7NSH3FRXRR4</th>\n",
       "      <th>A05492663T95KW63BR75K</th>\n",
       "      <th>A059547920Q3LZVFHLPI3</th>\n",
       "      <th>A07410232KYRFR25CIUGJ</th>\n",
       "      <th>A082796624UNM47DSAI6K</th>\n",
       "      <th>A0864963DOAY7LXGS5I6</th>\n",
       "      <th>...</th>\n",
       "      <th>AZW1HXXYAC15B</th>\n",
       "      <th>AZWRTJPN7NXT</th>\n",
       "      <th>AZWTXHXZXFAYP</th>\n",
       "      <th>AZYQEFB9Y5N22</th>\n",
       "      <th>AZZHB6U54UDYW</th>\n",
       "      <th>AZZHJZP4GQPPZ</th>\n",
       "      <th>AZZNK89PXD006</th>\n",
       "      <th>AZZOFVMQC0BJG</th>\n",
       "      <th>AZZQXL8VDCFTV</th>\n",
       "      <th>AZZTJQ7CQZUD8</th>\n",
       "    </tr>\n",
       "    <tr>\n",
       "      <th>ProductId</th>\n",
       "      <th></th>\n",
       "      <th></th>\n",
       "      <th></th>\n",
       "      <th></th>\n",
       "      <th></th>\n",
       "      <th></th>\n",
       "      <th></th>\n",
       "      <th></th>\n",
       "      <th></th>\n",
       "      <th></th>\n",
       "      <th></th>\n",
       "      <th></th>\n",
       "      <th></th>\n",
       "      <th></th>\n",
       "      <th></th>\n",
       "      <th></th>\n",
       "      <th></th>\n",
       "      <th></th>\n",
       "      <th></th>\n",
       "      <th></th>\n",
       "      <th></th>\n",
       "    </tr>\n",
       "  </thead>\n",
       "  <tbody>\n",
       "    <tr>\n",
       "      <th>0205616461</th>\n",
       "      <td>0.0</td>\n",
       "      <td>0.0</td>\n",
       "      <td>0.0</td>\n",
       "      <td>0.0</td>\n",
       "      <td>0.0</td>\n",
       "      <td>0.0</td>\n",
       "      <td>0.0</td>\n",
       "      <td>0.0</td>\n",
       "      <td>0.0</td>\n",
       "      <td>0.0</td>\n",
       "      <td>...</td>\n",
       "      <td>0.0</td>\n",
       "      <td>0.0</td>\n",
       "      <td>0.0</td>\n",
       "      <td>0.0</td>\n",
       "      <td>0.0</td>\n",
       "      <td>0.0</td>\n",
       "      <td>0.0</td>\n",
       "      <td>0.0</td>\n",
       "      <td>0.0</td>\n",
       "      <td>0.0</td>\n",
       "    </tr>\n",
       "    <tr>\n",
       "      <th>0558925278</th>\n",
       "      <td>0.0</td>\n",
       "      <td>0.0</td>\n",
       "      <td>0.0</td>\n",
       "      <td>0.0</td>\n",
       "      <td>0.0</td>\n",
       "      <td>0.0</td>\n",
       "      <td>0.0</td>\n",
       "      <td>0.0</td>\n",
       "      <td>0.0</td>\n",
       "      <td>0.0</td>\n",
       "      <td>...</td>\n",
       "      <td>0.0</td>\n",
       "      <td>0.0</td>\n",
       "      <td>0.0</td>\n",
       "      <td>0.0</td>\n",
       "      <td>0.0</td>\n",
       "      <td>0.0</td>\n",
       "      <td>0.0</td>\n",
       "      <td>0.0</td>\n",
       "      <td>0.0</td>\n",
       "      <td>0.0</td>\n",
       "    </tr>\n",
       "    <tr>\n",
       "      <th>0733001998</th>\n",
       "      <td>0.0</td>\n",
       "      <td>0.0</td>\n",
       "      <td>0.0</td>\n",
       "      <td>0.0</td>\n",
       "      <td>0.0</td>\n",
       "      <td>0.0</td>\n",
       "      <td>0.0</td>\n",
       "      <td>0.0</td>\n",
       "      <td>0.0</td>\n",
       "      <td>0.0</td>\n",
       "      <td>...</td>\n",
       "      <td>0.0</td>\n",
       "      <td>0.0</td>\n",
       "      <td>0.0</td>\n",
       "      <td>0.0</td>\n",
       "      <td>0.0</td>\n",
       "      <td>0.0</td>\n",
       "      <td>0.0</td>\n",
       "      <td>0.0</td>\n",
       "      <td>0.0</td>\n",
       "      <td>0.0</td>\n",
       "    </tr>\n",
       "    <tr>\n",
       "      <th>0737104473</th>\n",
       "      <td>0.0</td>\n",
       "      <td>0.0</td>\n",
       "      <td>0.0</td>\n",
       "      <td>0.0</td>\n",
       "      <td>0.0</td>\n",
       "      <td>0.0</td>\n",
       "      <td>0.0</td>\n",
       "      <td>0.0</td>\n",
       "      <td>0.0</td>\n",
       "      <td>0.0</td>\n",
       "      <td>...</td>\n",
       "      <td>0.0</td>\n",
       "      <td>0.0</td>\n",
       "      <td>0.0</td>\n",
       "      <td>0.0</td>\n",
       "      <td>0.0</td>\n",
       "      <td>0.0</td>\n",
       "      <td>0.0</td>\n",
       "      <td>0.0</td>\n",
       "      <td>0.0</td>\n",
       "      <td>0.0</td>\n",
       "    </tr>\n",
       "    <tr>\n",
       "      <th>0762451459</th>\n",
       "      <td>0.0</td>\n",
       "      <td>0.0</td>\n",
       "      <td>0.0</td>\n",
       "      <td>0.0</td>\n",
       "      <td>0.0</td>\n",
       "      <td>0.0</td>\n",
       "      <td>0.0</td>\n",
       "      <td>0.0</td>\n",
       "      <td>0.0</td>\n",
       "      <td>0.0</td>\n",
       "      <td>...</td>\n",
       "      <td>0.0</td>\n",
       "      <td>0.0</td>\n",
       "      <td>0.0</td>\n",
       "      <td>0.0</td>\n",
       "      <td>0.0</td>\n",
       "      <td>0.0</td>\n",
       "      <td>0.0</td>\n",
       "      <td>0.0</td>\n",
       "      <td>0.0</td>\n",
       "      <td>0.0</td>\n",
       "    </tr>\n",
       "  </tbody>\n",
       "</table>\n",
       "<p>5 rows × 9697 columns</p>\n",
       "</div>"
      ],
      "text/plain": [
       "UserId      A00205921JHJK5X9LNP42  A024581134CV80ZBLIZTZ  \\\n",
       "ProductId                                                  \n",
       "0205616461                    0.0                    0.0   \n",
       "0558925278                    0.0                    0.0   \n",
       "0733001998                    0.0                    0.0   \n",
       "0737104473                    0.0                    0.0   \n",
       "0762451459                    0.0                    0.0   \n",
       "\n",
       "UserId      A03056581JJIOL5FSKJY7  A03099101ZRK4K607JVHH  \\\n",
       "ProductId                                                  \n",
       "0205616461                    0.0                    0.0   \n",
       "0558925278                    0.0                    0.0   \n",
       "0733001998                    0.0                    0.0   \n",
       "0737104473                    0.0                    0.0   \n",
       "0762451459                    0.0                    0.0   \n",
       "\n",
       "UserId      A0505229A7NSH3FRXRR4  A05492663T95KW63BR75K  \\\n",
       "ProductId                                                 \n",
       "0205616461                   0.0                    0.0   \n",
       "0558925278                   0.0                    0.0   \n",
       "0733001998                   0.0                    0.0   \n",
       "0737104473                   0.0                    0.0   \n",
       "0762451459                   0.0                    0.0   \n",
       "\n",
       "UserId      A059547920Q3LZVFHLPI3  A07410232KYRFR25CIUGJ  \\\n",
       "ProductId                                                  \n",
       "0205616461                    0.0                    0.0   \n",
       "0558925278                    0.0                    0.0   \n",
       "0733001998                    0.0                    0.0   \n",
       "0737104473                    0.0                    0.0   \n",
       "0762451459                    0.0                    0.0   \n",
       "\n",
       "UserId      A082796624UNM47DSAI6K  A0864963DOAY7LXGS5I6  ...  AZW1HXXYAC15B  \\\n",
       "ProductId                                                ...                  \n",
       "0205616461                    0.0                   0.0  ...            0.0   \n",
       "0558925278                    0.0                   0.0  ...            0.0   \n",
       "0733001998                    0.0                   0.0  ...            0.0   \n",
       "0737104473                    0.0                   0.0  ...            0.0   \n",
       "0762451459                    0.0                   0.0  ...            0.0   \n",
       "\n",
       "UserId      AZWRTJPN7NXT  AZWTXHXZXFAYP  AZYQEFB9Y5N22  AZZHB6U54UDYW  \\\n",
       "ProductId                                                               \n",
       "0205616461           0.0            0.0            0.0            0.0   \n",
       "0558925278           0.0            0.0            0.0            0.0   \n",
       "0733001998           0.0            0.0            0.0            0.0   \n",
       "0737104473           0.0            0.0            0.0            0.0   \n",
       "0762451459           0.0            0.0            0.0            0.0   \n",
       "\n",
       "UserId      AZZHJZP4GQPPZ  AZZNK89PXD006  AZZOFVMQC0BJG  AZZQXL8VDCFTV  \\\n",
       "ProductId                                                                \n",
       "0205616461            0.0            0.0            0.0            0.0   \n",
       "0558925278            0.0            0.0            0.0            0.0   \n",
       "0733001998            0.0            0.0            0.0            0.0   \n",
       "0737104473            0.0            0.0            0.0            0.0   \n",
       "0762451459            0.0            0.0            0.0            0.0   \n",
       "\n",
       "UserId      AZZTJQ7CQZUD8  \n",
       "ProductId                  \n",
       "0205616461            0.0  \n",
       "0558925278            0.0  \n",
       "0733001998            0.0  \n",
       "0737104473            0.0  \n",
       "0762451459            0.0  \n",
       "\n",
       "[5 rows x 9697 columns]"
      ]
     },
     "execution_count": 14,
     "metadata": {},
     "output_type": "execute_result"
    }
   ],
   "source": [
    "X.head()"
   ]
  },
  {
   "cell_type": "code",
   "execution_count": 15,
   "id": "0aab752f",
   "metadata": {},
   "outputs": [
    {
     "data": {
      "text/plain": [
       "(886, 9697)"
      ]
     },
     "execution_count": 15,
     "metadata": {},
     "output_type": "execute_result"
    }
   ],
   "source": [
    "X.shape"
   ]
  },
  {
   "cell_type": "markdown",
   "id": "b66db10e",
   "metadata": {},
   "source": [
    "Decomposing the matrix using TruncatedSVD, It is a dimensionality reduction technique."
   ]
  },
  {
   "cell_type": "code",
   "execution_count": 18,
   "id": "49b92d8b",
   "metadata": {},
   "outputs": [],
   "source": [
    "from sklearn.decomposition import TruncatedSVD"
   ]
  },
  {
   "cell_type": "code",
   "execution_count": 19,
   "id": "347910f9",
   "metadata": {},
   "outputs": [
    {
     "data": {
      "text/plain": [
       "array([[ 3.50677460e-16,  6.22279916e-14, -8.90079046e-15, ...,\n",
       "        -9.71664352e-14,  8.98307516e-14, -5.03822555e-12],\n",
       "       [ 8.54867672e-15,  1.27649605e-13, -3.21108227e-13, ...,\n",
       "         5.66177198e-13,  5.12344695e-13,  4.91930862e-11],\n",
       "       [ 3.43179691e-16,  3.93980737e-16, -7.05757507e-16, ...,\n",
       "        -3.35577053e-14, -1.35507738e-15,  1.04038902e-14],\n",
       "       ...,\n",
       "       [ 3.95361669e-06,  2.27952602e-01, -1.04116769e-02, ...,\n",
       "        -3.84118050e-03,  2.28232924e-04, -4.82465062e-02],\n",
       "       [ 1.79141310e-06,  7.96666950e-04, -3.77892689e-05, ...,\n",
       "        -7.95634427e-05,  2.05132444e-04,  8.61508966e-04],\n",
       "       [ 5.82595303e-04,  4.16461195e-01,  3.56734535e-01, ...,\n",
       "        -9.80587811e-02,  1.25266415e-01,  1.20326847e+00]])"
      ]
     },
     "execution_count": 19,
     "metadata": {},
     "output_type": "execute_result"
    }
   ],
   "source": [
    "SVD = TruncatedSVD(n_components=10) #n_component is desired dimension of output data\n",
    "decomposed_matrix = SVD.fit_transform(X)\n",
    "decomposed_matrix"
   ]
  },
  {
   "cell_type": "code",
   "execution_count": 20,
   "id": "fd1b5c3c",
   "metadata": {},
   "outputs": [
    {
     "data": {
      "text/plain": [
       "(886, 10)"
      ]
     },
     "execution_count": 20,
     "metadata": {},
     "output_type": "execute_result"
    }
   ],
   "source": [
    "decomposed_matrix.shape"
   ]
  },
  {
   "cell_type": "code",
   "execution_count": 21,
   "id": "e3d5bebf",
   "metadata": {},
   "outputs": [
    {
     "data": {
      "text/plain": [
       "array([[ 1.        , -0.99853987, -0.21091301, ...,  0.31876382,\n",
       "        -0.13670279, -0.65678261],\n",
       "       [-0.99853987,  1.        ,  0.19019964, ..., -0.30958705,\n",
       "         0.11779158,  0.65156513],\n",
       "       [-0.21091301,  0.19019964,  1.        , ..., -0.01736674,\n",
       "         0.8419122 ,  0.6515068 ],\n",
       "       ...,\n",
       "       [ 0.31876382, -0.30958705, -0.01736674, ...,  1.        ,\n",
       "         0.05005062, -0.11429257],\n",
       "       [-0.13670279,  0.11779158,  0.8419122 , ...,  0.05005062,\n",
       "         1.        ,  0.70559321],\n",
       "       [-0.65678261,  0.65156513,  0.6515068 , ..., -0.11429257,\n",
       "         0.70559321,  1.        ]])"
      ]
     },
     "execution_count": 21,
     "metadata": {},
     "output_type": "execute_result"
    }
   ],
   "source": [
    "#corrcoef() returns the correlation matrix with correlation coefficient in it. \n",
    "\n",
    "correlation_matrix = np.corrcoef(decomposed_matrix)\n",
    "correlation_matrix"
   ]
  },
  {
   "cell_type": "code",
   "execution_count": 22,
   "id": "f1e6a896",
   "metadata": {},
   "outputs": [
    {
     "data": {
      "text/plain": [
       "(886, 886)"
      ]
     },
     "execution_count": 22,
     "metadata": {},
     "output_type": "execute_result"
    }
   ],
   "source": [
    "correlation_matrix.shape"
   ]
  },
  {
   "cell_type": "code",
   "execution_count": 23,
   "id": "d0c1ff2d",
   "metadata": {},
   "outputs": [
    {
     "data": {
      "text/plain": [
       "493"
      ]
     },
     "execution_count": 23,
     "metadata": {},
     "output_type": "execute_result"
    }
   ],
   "source": [
    "#choose a random index\n",
    "import random\n",
    "i = random.randint(0,correlation_matrix.shape[0])\n",
    "i"
   ]
  },
  {
   "cell_type": "code",
   "execution_count": 24,
   "id": "12f61d1f",
   "metadata": {},
   "outputs": [
    {
     "data": {
      "text/plain": [
       "'9790789890'"
      ]
     },
     "execution_count": 24,
     "metadata": {},
     "output_type": "execute_result"
    }
   ],
   "source": [
    "#The Product ID of the product the customer purchased\n",
    "product_ID = X.index[i]\n",
    "product_ID"
   ]
  },
  {
   "cell_type": "code",
   "execution_count": 25,
   "id": "3138daae",
   "metadata": {},
   "outputs": [
    {
     "data": {
      "text/plain": [
       "array([ 0.99091955, -0.98947808, -0.30561197, -0.98827473, -0.99298395,\n",
       "        0.99764021,  0.98878844, -0.7350955 ,  0.99764574, -0.97523333,\n",
       "        0.98878844, -0.97400002,  0.98844843,  0.99686152,  0.99764021,\n",
       "        0.98878844,  0.98878844,  0.98396067,  0.98844844, -0.99809066,\n",
       "       -0.95997623, -0.99140664,  0.98759064, -0.97376322, -0.96162436,\n",
       "        0.92151362,  0.91675283,  0.99387656, -0.97376322,  0.92758768,\n",
       "        0.93116533,  0.99763323,  0.98011488,  0.92176646, -0.97396292,\n",
       "        0.99764021,  0.92176646, -0.97627843,  0.99765011,  0.99405351,\n",
       "        0.99404745,  0.92151362,  0.99763543,  0.99764021,  0.99764021,\n",
       "        0.99764021, -0.97376322,  0.99764021,  0.99764461,  0.99405351,\n",
       "       -0.98153517, -0.95753529, -0.98988746,  0.98216241,  0.31341995,\n",
       "       -0.96328993, -0.96176227,  0.43924995, -0.9405579 ,  0.80914246,\n",
       "        0.73741768, -0.97121549, -0.9162497 ,  0.99361786, -0.91751012,\n",
       "       -0.95241754, -0.87539118,  0.95528546, -0.99221132,  0.87562547,\n",
       "       -0.99112673,  0.9783578 ,  0.88140051, -0.97660973,  0.90909666,\n",
       "        0.3207275 , -0.70396275, -0.0936072 , -0.89882372,  0.88134984,\n",
       "        0.99309928,  0.90872221, -0.96437745, -0.99159246,  0.70185444,\n",
       "       -0.59046166, -0.97734853,  0.99480844, -0.96405742, -0.97021607,\n",
       "       -0.54848309,  0.15761309, -0.99620769, -0.73677817,  0.88348861,\n",
       "        0.91484204,  0.91501114,  0.91497534, -0.83325591, -0.97294713,\n",
       "        0.99500016,  0.84392571, -0.87452167,  0.98974653, -0.95778233,\n",
       "        0.96299642,  0.63648603, -0.99063083,  0.98014419, -0.47825552,\n",
       "        0.99677386,  0.96609445,  0.95294204, -0.4021677 , -0.30669972,\n",
       "        0.86353   ,  0.97303667, -0.98047351, -0.36877251, -0.67748824,\n",
       "       -0.49899802, -0.95873519,  0.97852613,  0.92565455, -0.87069677,\n",
       "        0.93219188,  0.13788844,  0.95264886,  0.97670555,  0.98932743,\n",
       "        0.15722438, -0.6824167 , -0.96967555,  0.77418248, -0.94260027,\n",
       "       -0.93922453, -0.49589469,  0.99801192,  0.99396375,  0.9843432 ,\n",
       "        0.98559723, -0.95061782, -0.99320995, -0.99402453,  0.3077089 ,\n",
       "       -0.13925062, -0.98349059, -0.89873916,  0.95730215,  0.99404731,\n",
       "        0.81260337,  0.95169181, -0.96527365,  0.96293258, -0.89190783,\n",
       "       -0.97969055, -0.99084821,  0.96983188,  0.93082888, -0.22990004,\n",
       "        0.9932846 , -0.02979773, -0.98329471,  0.98443917,  0.95798403,\n",
       "        0.98825851,  0.98330478,  0.95919884,  0.8017043 ,  0.99468974,\n",
       "       -0.23100307, -0.98576515, -0.8465287 ,  0.97369008,  0.97473246,\n",
       "       -0.868635  , -0.80652011,  0.98643285, -0.70818135,  0.64185519,\n",
       "       -0.98013673, -0.97329018,  0.96889741,  0.97361629, -0.99346459,\n",
       "       -0.29286799, -0.96718775, -0.98711984,  0.89894055, -0.88830284,\n",
       "        0.96669157, -0.66919667, -0.98947491,  0.69828161,  0.96695107,\n",
       "       -0.98820966, -0.94265415, -0.98806525,  0.96177852,  0.91102078,\n",
       "        0.98163373, -0.99346459,  0.87462249, -0.98154452,  0.97389337,\n",
       "       -0.61532405,  0.95772968, -0.98969088, -0.05668917,  0.66186215,\n",
       "       -0.78654987, -0.72645705, -0.96713015,  0.97832883,  0.95573696,\n",
       "        0.96339819,  0.71296857,  0.9730272 ,  0.99680345, -0.19307187,\n",
       "        0.48120884, -0.97753732,  0.25451693,  0.98333944,  0.36305659,\n",
       "        0.34371345,  0.76921037, -0.99061368, -0.94954352,  0.32464615,\n",
       "        0.98852197, -0.96104901,  0.97473372, -0.99253189, -0.27120577,\n",
       "        0.71668824, -0.9783685 ,  0.36217444, -0.96297537, -0.98988574,\n",
       "        0.95862717,  0.8458035 ,  0.98960401, -0.96561714,  0.74113621,\n",
       "        0.98148888,  0.99227993, -0.74458489, -0.7059751 ,  0.93332136,\n",
       "       -0.76452734,  0.97116671,  0.95047327,  0.96892643, -0.72677912,\n",
       "        0.95344432,  0.9258324 , -0.98034795, -0.99392294,  0.94245629,\n",
       "        0.98366027,  0.96881863,  0.95953935,  0.98706579, -0.87987776,\n",
       "       -0.9084254 ,  0.13409068,  0.98225071, -0.9561816 ,  0.77241809,\n",
       "        0.91117166, -0.98660072,  0.98344074, -0.93092355, -0.53383781,\n",
       "       -0.05998745,  0.55256292,  0.9824552 , -0.61212285, -0.9865684 ,\n",
       "        0.97280284, -0.98743394,  0.96770865,  0.98201175,  0.66334734,\n",
       "       -0.99136076, -0.97258835, -0.72036086, -0.84942028, -0.90745153,\n",
       "        0.60952293,  0.92355664,  0.96669796,  0.9900241 ,  0.81069177,\n",
       "       -0.85509383,  0.96264248, -0.98361721, -0.96152226, -0.14864771,\n",
       "        0.96536547, -0.98709089, -0.94105317, -0.77838113,  0.97472158,\n",
       "        0.80111431,  0.94544209,  0.66875389,  0.99517638,  0.91291812,\n",
       "        0.91047173, -0.98351084,  0.98753318, -0.98851626, -0.97899799,\n",
       "        0.96605577, -0.98925914,  0.95538332, -0.85971525,  0.69714712,\n",
       "       -0.98501953,  0.98129423, -0.84190129, -0.32792192,  0.99180495,\n",
       "        0.77301939,  0.94790117,  0.8805117 ,  0.93742843, -0.98359723,\n",
       "       -0.7568264 , -0.94098429,  0.96740122, -0.03352351,  0.95666351,\n",
       "        0.85880596,  0.99043412,  0.3245612 ,  0.97950625,  0.95439312,\n",
       "       -0.08889608,  0.98342637, -0.98173683,  0.84430287,  0.98615625,\n",
       "        0.95842133, -0.97043005, -0.9769558 ,  0.91172109, -0.92357813,\n",
       "       -0.98268929,  0.1373731 ,  0.99429829,  0.9365677 ,  0.92146508,\n",
       "       -0.50849569, -0.89735289,  0.96259496,  0.98126588, -0.96942566,\n",
       "       -0.95442832, -0.95692323, -0.96234028,  0.99539743,  0.9824863 ,\n",
       "        0.98844494,  0.96760237, -0.72649226, -0.94485499, -0.86146903,\n",
       "       -0.89639271,  0.98424343,  0.98555415,  0.20129602, -0.70045931,\n",
       "       -0.8489393 , -0.98434187, -0.98883842, -0.54979461,  0.94574583,\n",
       "        0.98550238,  0.89319068,  0.94426955, -0.91148642,  0.68778081,\n",
       "        0.88961906, -0.99678106,  0.97565725,  0.98967463,  0.93550903,\n",
       "        0.95565582,  0.98780417, -0.97577107,  0.94029466,  0.1340905 ,\n",
       "        0.88127644, -0.08353441, -0.53118162, -0.75552734, -0.99667802,\n",
       "       -0.87137668,  0.60682564,  0.99918761, -0.94377884,  0.02255965,\n",
       "       -0.95998307, -0.96247322,  0.98310666, -0.84821875,  0.40497988,\n",
       "        0.99020997,  0.90780042,  0.99177172, -0.97876401, -0.99859395,\n",
       "        0.99177172,  0.98145578, -0.98421055, -0.06182179,  0.97603923,\n",
       "       -0.93637941,  0.95676099, -0.96895689,  0.96404921, -0.97706887,\n",
       "        0.97601757,  0.98945013,  0.96665525,  0.96903777,  0.99735734,\n",
       "       -0.9660667 ,  0.98052364,  0.95320099,  0.72499703, -0.48094818,\n",
       "       -0.75752033,  0.98344891, -0.75450487, -0.85911654, -0.88430623,\n",
       "       -0.9652883 ,  0.97794483, -0.99463932,  0.99380034,  0.97891649,\n",
       "       -0.87530691,  0.98603942,  0.99324272, -0.79196079,  0.98897866,\n",
       "       -0.94845045, -0.99086095,  0.95648192,  0.98964072,  0.82314348,\n",
       "       -0.99426674, -0.97601726, -0.96321221,  0.26447431,  0.98626615,\n",
       "        0.72752192,  0.99851063,  0.05396952,  0.89172305, -0.04263706,\n",
       "       -0.9040061 ,  0.74067655,  0.98111492, -0.97388562,  0.98813937,\n",
       "       -0.93442579, -0.98804803,  0.79172125, -0.60066672, -0.80763467,\n",
       "        0.99334531, -0.94859755,  0.43771841, -0.98999767,  0.94106592,\n",
       "        0.97790916, -0.96393913, -0.66480229,  0.97988403, -0.96505924,\n",
       "       -0.81414313, -0.99214666,  0.98765127, -0.92815769, -0.97975789,\n",
       "       -0.98989016,  0.88250547, -0.75374136,  1.        ,  0.97617122,\n",
       "        0.97962406, -0.98744735, -0.87496323, -0.94427416, -0.98332525,\n",
       "        0.67054926,  0.96372214,  0.81301762, -0.47595876,  0.9783331 ,\n",
       "        0.99055613,  0.99053702,  0.99624502, -0.98329701, -0.96915518,\n",
       "        0.98181711, -0.99094488,  0.98178197, -0.89799894, -0.96731743,\n",
       "        0.9564237 , -0.99143794, -0.99141945, -0.98563201,  0.9256723 ,\n",
       "       -0.9989102 ,  0.94283957,  0.96962869,  0.96944923, -0.48331305,\n",
       "       -0.9657087 ,  0.99511432,  0.98971149, -0.9956557 ,  0.94176148,\n",
       "       -0.80075316, -0.30478616,  0.97633143, -0.93078137, -0.99686092,\n",
       "        0.99199096, -0.99041376, -0.99182947,  0.83980218, -0.99149191,\n",
       "        0.98565362, -0.95900397,  0.95144774, -0.46387097,  0.94926461,\n",
       "        0.65464745, -0.93640512,  0.14788123, -0.95405156,  0.98342558,\n",
       "        0.98254324,  0.49478865, -0.99211759,  0.99048454, -0.96967147,\n",
       "        0.90094787,  0.99605981,  0.24917467,  0.98946143,  0.98062331,\n",
       "       -0.98651879, -0.97580062,  0.76051662,  0.85591546, -0.6025563 ,\n",
       "       -0.92681021, -0.98473066,  0.98487193, -0.99183287,  0.99728737,\n",
       "       -0.02800644, -0.98962062, -0.9889135 , -0.80846988,  0.95260793,\n",
       "        0.94551065, -0.0265108 , -0.96177125, -0.93614577, -0.90125276,\n",
       "       -0.97605135,  0.91593119, -0.99379146, -0.99063346, -0.97178038,\n",
       "       -0.99340075, -0.31494612, -0.98517776,  0.75100514, -0.90119107,\n",
       "        0.99273564,  0.90670051, -0.84460059,  0.99773825,  0.88054823,\n",
       "       -0.88447351, -0.62483675,  0.98531884, -0.9965338 ,  0.71339162,\n",
       "       -0.88942149, -0.99212429,  0.96026874,  0.99421157, -0.96647891,\n",
       "       -0.98571668, -0.99321373, -0.97091331, -0.99322167, -0.97234017,\n",
       "        0.95420676,  0.85731236,  0.97866239, -0.99415138,  0.97167633,\n",
       "        0.99392302,  0.96983443, -0.96671412, -0.88187159, -0.31207352,\n",
       "        0.98233972, -0.49214818, -0.36131545,  0.33734234, -0.98763712,\n",
       "        0.92238641,  0.99233995,  0.89189063,  0.87257928, -0.99615249,\n",
       "       -0.90164841,  0.27958872,  0.9892668 ,  0.9190009 , -0.97132482,\n",
       "        0.93054783, -0.98888166, -0.94218839,  0.97053801,  0.82612915,\n",
       "        0.97004213,  0.94913292,  0.98627357,  0.98624356,  0.95434308,\n",
       "       -0.37738016, -0.99790578, -0.83686461,  0.98743964, -0.97324534,\n",
       "        0.84085145, -0.94586071,  0.90336623,  0.99149901,  0.83385968,\n",
       "       -0.97409541,  0.53423984, -0.92857832,  0.98452576,  0.98445256,\n",
       "       -0.99055191, -0.8239663 ,  0.93401806, -0.95097459, -0.98198969,\n",
       "        0.95910013, -0.92857847, -0.99102793, -0.91929938, -0.98948913,\n",
       "       -0.90581944,  0.98044766,  0.17181113, -0.95881387,  0.97968198,\n",
       "       -0.24973807,  0.95974281,  0.99699499,  0.97953069, -0.35388219,\n",
       "       -0.98663207,  0.94222169, -0.95097459, -0.22826731,  0.66146015,\n",
       "       -0.90446236,  0.99490414, -0.97787973, -0.97869301, -0.9429865 ,\n",
       "       -0.78631867, -0.98733838, -0.98005444,  0.9311797 ,  0.98043614,\n",
       "       -0.99799946, -0.96698168, -0.98943992, -0.99357782,  0.99020751,\n",
       "        0.91727974,  0.96325496, -0.98797958, -0.99256019,  0.127315  ,\n",
       "        0.24622119, -0.94632186, -0.90627974, -0.99666514, -0.83673703,\n",
       "        0.22656097, -0.64625091,  0.9877146 , -0.52652119, -0.98135925,\n",
       "       -0.83935945,  0.99408737,  0.97728228,  0.99168941,  0.13820759,\n",
       "       -0.47153512,  0.98219204,  0.93864611, -0.85188199,  0.98878669,\n",
       "       -0.0781813 ,  0.81038891,  0.97366555,  0.80950381, -0.9814333 ,\n",
       "       -0.98820966, -0.19513358, -0.11793075, -0.29924255,  0.64110395,\n",
       "       -0.96799536,  0.97085769,  0.99355195, -0.12418861, -0.59438024,\n",
       "        0.9847912 ,  0.89079535, -0.55302096, -0.95138281, -0.50243358,\n",
       "        0.93184842,  0.15306935, -0.96195924, -0.96354113, -0.96354071,\n",
       "        0.99645804,  0.99204496,  0.99661612, -0.98523848,  0.15096791,\n",
       "       -0.54048206, -0.11300881, -0.98470292,  0.96231658,  0.99515753,\n",
       "        0.96663187, -0.99757859,  0.57035279, -0.86166915,  0.32593142,\n",
       "        0.8683824 ,  0.99537361,  0.99840933,  0.9877544 ,  0.97345962,\n",
       "        0.99590868,  0.13792088, -0.98458094,  0.7131954 ,  0.15060736,\n",
       "        0.96575469,  0.28509292, -0.9910699 , -0.05060213,  0.99564931,\n",
       "        0.99064003,  0.84475568,  0.10575323,  0.97714361,  0.98735727,\n",
       "        0.88471862,  0.62156403, -0.99780676, -0.98981744,  0.96816643,\n",
       "        0.15023713, -0.98765843,  0.95084517, -0.9369528 , -0.93135661,\n",
       "        0.97912321,  0.9626172 ,  0.98687104,  0.7682469 , -0.98099213,\n",
       "       -0.98570642,  0.03375806,  0.05010551, -0.71068997, -0.04827643,\n",
       "        0.0580306 ,  0.05976246,  0.9754638 ,  0.78814065, -0.9959595 ,\n",
       "       -0.99304745, -0.94786692, -0.62978543, -0.7409025 ,  0.85334049,\n",
       "       -0.98970802, -0.03753856, -0.22306759, -0.96856837, -0.86946865,\n",
       "        0.53189509,  0.28172171, -0.3520961 ,  0.00888492,  0.03414319,\n",
       "       -0.97310759, -0.94881711,  0.96113326,  0.97245681,  0.98077723,\n",
       "       -0.04951802,  0.9936053 , -0.53102818, -0.9562907 ,  0.20985309,\n",
       "        0.44028969, -0.95310247,  0.88730922, -0.93333781, -0.88293049,\n",
       "       -0.93989112,  0.97891078,  0.27629815,  0.16194747, -0.85193929,\n",
       "        0.44482548,  0.20376214,  0.94102465, -0.96732973, -0.8905543 ,\n",
       "       -0.58289796, -0.96560813,  0.16161027, -0.93170893,  0.97826183,\n",
       "       -0.94271602,  0.99600333, -0.9958327 ,  0.14199765, -0.97704684,\n",
       "        0.98825554, -0.04879678, -0.04835406,  0.95858687, -0.91534479,\n",
       "       -0.05173348, -0.8841595 , -0.90966422, -0.99249096,  0.95485709,\n",
       "        0.89960826, -0.06248449, -0.84253728,  0.14745718,  0.98248134,\n",
       "       -0.95759125, -0.86478314,  0.98904297,  0.99259151,  0.43884278,\n",
       "       -0.97351364,  0.90624825, -0.70922586,  0.31794498, -0.23581874,\n",
       "       -0.70366102])"
      ]
     },
     "execution_count": 25,
     "metadata": {},
     "output_type": "execute_result"
    }
   ],
   "source": [
    "#All the correlation of those products which are correlated to the product that customer purchase\n",
    "correlation_ProductId = correlation_matrix[i]\n",
    "\n",
    "correlation_ProductId"
   ]
  },
  {
   "cell_type": "code",
   "execution_count": 26,
   "id": "59f173a8",
   "metadata": {},
   "outputs": [
    {
     "data": {
      "text/plain": [
       "['0205616461',\n",
       " '1304139212',\n",
       " '1304139220',\n",
       " '130414643X',\n",
       " '130414674X',\n",
       " '1304174778',\n",
       " '1304174867',\n",
       " '1304174905',\n",
       " '1304196046',\n",
       " '1304196062']"
      ]
     },
     "execution_count": 26,
     "metadata": {},
     "output_type": "execute_result"
    }
   ],
   "source": [
    "#Top products to be displayed by the recommendation system to the above customer based on the purchase history of other cutomers on website\n",
    "recommended_products = X.index[correlation_ProductId > 0.90] \n",
    "recommended_products = list(recommended_products)\n",
    "\n",
    "#Top 10 Products recommended to the user based on the purchase done by user\n",
    "recommended_products[0:10]"
   ]
  },
  {
   "cell_type": "code",
   "execution_count": null,
   "id": "4b19d6e4",
   "metadata": {},
   "outputs": [],
   "source": []
  },
  {
   "cell_type": "code",
   "execution_count": null,
   "id": "13260105",
   "metadata": {},
   "outputs": [],
   "source": []
  }
 ],
 "metadata": {
  "kernelspec": {
   "display_name": "Python 3 (ipykernel)",
   "language": "python",
   "name": "python3"
  },
  "language_info": {
   "codemirror_mode": {
    "name": "ipython",
    "version": 3
   },
   "file_extension": ".py",
   "mimetype": "text/x-python",
   "name": "python",
   "nbconvert_exporter": "python",
   "pygments_lexer": "ipython3",
   "version": "3.10.9"
  }
 },
 "nbformat": 4,
 "nbformat_minor": 5
}

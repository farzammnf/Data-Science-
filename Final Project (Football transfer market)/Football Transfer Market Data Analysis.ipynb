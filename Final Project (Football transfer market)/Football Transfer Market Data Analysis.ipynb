{
 "cells": [
  {
   "cell_type": "markdown",
   "metadata": {},
   "source": [
    "# Football Transfer Market Data Analysis\n"
   ]
  },
  {
   "cell_type": "code",
   "execution_count": null,
   "metadata": {
    "scrolled": true
   },
   "outputs": [],
   "source": [
    "!pip install xgboost\n"
   ]
  },
  {
   "cell_type": "code",
   "execution_count": null,
   "metadata": {},
   "outputs": [],
   "source": [
    "!pip install lightgbm\n"
   ]
  },
  {
   "cell_type": "code",
   "execution_count": null,
   "metadata": {
    "execution": {
     "iopub.execute_input": "2023-03-21T03:28:18.523205Z",
     "iopub.status.busy": "2023-03-21T03:28:18.522669Z",
     "iopub.status.idle": "2023-03-21T03:28:23.034586Z",
     "shell.execute_reply": "2023-03-21T03:28:23.032318Z",
     "shell.execute_reply.started": "2023-03-21T03:28:18.523162Z"
    }
   },
   "outputs": [],
   "source": [
    "# Import modules\n",
    "import pandas as pd\n",
    "import numpy as np\n",
    "import matplotlib.pyplot as plt\n",
    "import seaborn as sns\n",
    "import datetime as dt\n",
    "import calendar\n",
    "import datetime\n",
    "from datetime import datetime, timedelta, date\n",
    "import warnings\n",
    "import os\n",
    "\n",
    "from sklearn.linear_model import LogisticRegression\n",
    "from sklearn.tree import DecisionTreeRegressor\n",
    "from sklearn.ensemble import RandomForestRegressor\n",
    "from sklearn.svm import SVR\n",
    "from sklearn.ensemble import GradientBoostingRegressor\n",
    "from sklearn import ensemble\n",
    "from xgboost import XGBRegressor\n",
    "from lightgbm import LGBMRegressor\n",
    "from sklearn.model_selection import cross_val_score\n",
    "from sklearn.model_selection import train_test_split\n",
    "\n",
    "#settings\n",
    "pd.set_option('display.max_row', 100)\n",
    "pd.set_option('display.max_columns', 1200)\n",
    "pd.set_option('display.width', 1200)\n",
    "warnings.filterwarnings(\"ignore\")\n",
    "%matplotlib inline\n",
    "\n",
    "#variables\n",
    "colour=['maroon','r','g','darkgreen','c','teal','b','navy','indigo','m','deeppink','orange','sienna','yellow','khaki','olive','tan','black','grey','brown']\n",
    "\n",
    "print(\"Packages installed\")"
   ]
  },
  {
   "cell_type": "markdown",
   "metadata": {},
   "source": [
    "# Get Data"
   ]
  },
  {
   "cell_type": "code",
   "execution_count": null,
   "metadata": {
    "execution": {
     "iopub.execute_input": "2023-03-21T03:28:23.038273Z",
     "iopub.status.busy": "2023-03-21T03:28:23.03766Z",
     "iopub.status.idle": "2023-03-21T03:28:30.723205Z",
     "shell.execute_reply": "2023-03-21T03:28:30.720613Z",
     "shell.execute_reply.started": "2023-03-21T03:28:23.038208Z"
    }
   },
   "outputs": [],
   "source": [
    "# Import all files in the current directory and read into dataframes\n",
    "dataframes = []\n",
    "\n",
    "# Get the current working directory\n",
    "current_directory = os.getcwd()\n",
    "\n",
    "# Look for CSV files in the current directory\n",
    "for filename in os.listdir(current_directory):\n",
    "    if filename.endswith(\".csv\"):\n",
    "        file = filename.split('.')[0] + \"_df\"\n",
    "        filepath = os.path.join(current_directory, filename)\n",
    "        df = pd.read_csv(filepath, sep=\",\", encoding=\"UTF-8\")\n",
    "        exec(f'{file} = df.copy()')\n",
    "        print(file, df.shape)\n",
    "        dataframes.append(df)\n",
    "\n",
    "print('Data imported')\n"
   ]
  },
  {
   "cell_type": "code",
   "execution_count": null,
   "metadata": {},
   "outputs": [],
   "source": [
    "game_lineups_df.info()"
   ]
  },
  {
   "cell_type": "code",
   "execution_count": null,
   "metadata": {},
   "outputs": [],
   "source": [
    "game_events_df.info()"
   ]
  },
  {
   "cell_type": "code",
   "execution_count": null,
   "metadata": {},
   "outputs": [],
   "source": [
    "competitions_df.info()"
   ]
  },
  {
   "cell_type": "code",
   "execution_count": null,
   "metadata": {},
   "outputs": [],
   "source": [
    "games_df.info()"
   ]
  },
  {
   "cell_type": "code",
   "execution_count": null,
   "metadata": {},
   "outputs": [],
   "source": [
    "games_df[\"season\"].unique()"
   ]
  },
  {
   "cell_type": "code",
   "execution_count": null,
   "metadata": {},
   "outputs": [],
   "source": [
    "player_valuations_df.info()"
   ]
  },
  {
   "cell_type": "code",
   "execution_count": null,
   "metadata": {},
   "outputs": [],
   "source": [
    "appearances_df.info()\n"
   ]
  },
  {
   "cell_type": "code",
   "execution_count": null,
   "metadata": {},
   "outputs": [],
   "source": [
    "clubs_df.info()"
   ]
  },
  {
   "cell_type": "code",
   "execution_count": null,
   "metadata": {},
   "outputs": [],
   "source": [
    "players_df.info()"
   ]
  },
  {
   "cell_type": "markdown",
   "metadata": {},
   "source": [
    "### 1. Which team has won more in the year 2023?"
   ]
  },
  {
   "cell_type": "code",
   "execution_count": null,
   "metadata": {},
   "outputs": [],
   "source": [
    "import pandas as pd\n",
    "\n",
    "# Assuming your DataFrame is named games_df\n",
    "# Convert the 'date' column to datetime if it's not already\n",
    "games_df['date'] = pd.to_datetime(games_df['date'])\n",
    "\n",
    "# Filter data for the year 2022\n",
    "games_2022 = games_df[games_df['date'].dt.year == 2023]\n",
    "\n",
    "# Calculate wins for each team\n",
    "home_wins = games_2022[games_2022['home_club_goals'] > games_2022['away_club_goals']]['home_club_name'].value_counts()\n",
    "away_wins = games_2022[games_2022['away_club_goals'] > games_2022['home_club_goals']]['away_club_name'].value_counts()\n",
    "\n",
    "# Combine home and away wins\n",
    "total_wins = home_wins.add(away_wins, fill_value=0)\n",
    "\n",
    "# Team with the most wins\n",
    "team_with_most_wins = total_wins.idxmax()\n",
    "number_of_wins = total_wins.max()\n",
    "\n",
    "print(f\"The team with the most wins in 2023 is {team_with_most_wins} with {number_of_wins} wins.\")\n"
   ]
  },
  {
   "cell_type": "code",
   "execution_count": null,
   "metadata": {},
   "outputs": [],
   "source": [
    "# Plotting the top 10 results\n",
    "plt.figure(figsize=(12, 8))\n",
    "total_wins.sort_values(ascending=False).head(10).plot(kind='bar', color='skyblue')\n",
    "plt.title('Top 10 Teams with Most Wins in 2023')\n",
    "plt.xlabel('Team')\n",
    "plt.ylabel('Number of Wins')\n",
    "plt.xticks(rotation=45, ha='right')\n",
    "plt.show()\n"
   ]
  },
  {
   "cell_type": "markdown",
   "metadata": {},
   "source": [
    "### Visualizing Club Squad Sizes"
   ]
  },
  {
   "cell_type": "code",
   "execution_count": null,
   "metadata": {},
   "outputs": [],
   "source": [
    "# Plotting club squad sizes\n",
    "plt.figure(figsize=(12, 8))\n",
    "plt.hist(clubs_df['squad_size'], bins=20, color='green', edgecolor='black')\n",
    "plt.title('Distribution of Club Squad Sizes')\n",
    "plt.xlabel('Squad Size')\n",
    "plt.ylabel('Number of Clubs')\n",
    "plt.show()\n"
   ]
  },
  {
   "cell_type": "markdown",
   "metadata": {},
   "source": [
    "### Which player has the highest number of goals in a Match?"
   ]
  },
  {
   "cell_type": "code",
   "execution_count": null,
   "metadata": {},
   "outputs": [],
   "source": [
    "# Assuming your DataFrame is named appearances_df\n",
    "# Find the player with the highest number of goals\n",
    "highest_goals_player = appearances_df.loc[appearances_df['goals'].idxmax()]\n",
    "\n",
    "print(f\"The player with the highest number of goals is {highest_goals_player['player_name']} with {highest_goals_player['goals']} goals.\")\n"
   ]
  },
  {
   "cell_type": "markdown",
   "metadata": {},
   "source": [
    "# highest number of goals in domestic leagues"
   ]
  },
  {
   "cell_type": "code",
   "execution_count": null,
   "metadata": {},
   "outputs": [],
   "source": [
    "# Assuming your DataFrame is named appearances_df\n",
    "# Find the top 10 players with the highest number of goals\n",
    "top_goals_players = appearances_df.groupby('player_name')['goals'].sum().nlargest(10)\n",
    "\n",
    "# Plotting top 10 players with the highest number of goals\n",
    "plt.figure(figsize=(12, 8))\n",
    "top_goals_players.plot(kind='bar', color='purple')\n",
    "plt.title('Top 10 Players with the Highest Number of Goals')\n",
    "plt.xlabel('Player')\n",
    "plt.ylabel('Total Goals')\n",
    "plt.xticks(rotation=45, ha='right')\n",
    "plt.show()\n"
   ]
  },
  {
   "cell_type": "code",
   "execution_count": null,
   "metadata": {},
   "outputs": [],
   "source": [
    "##Visualizing Player Minutes Played"
   ]
  },
  {
   "cell_type": "code",
   "execution_count": null,
   "metadata": {},
   "outputs": [],
   "source": [
    "# Plotting player minutes played\n",
    "plt.figure(figsize=(12, 8))\n",
    "plt.hist(appearances_df['minutes_played'], bins=20, color='orange', edgecolor='black')\n",
    "plt.title('Distribution of Player Minutes Played')\n",
    "plt.xlabel('Minutes Played')\n",
    "plt.ylabel('Number of Players')\n",
    "plt.show()\n"
   ]
  },
  {
   "cell_type": "code",
   "execution_count": null,
   "metadata": {},
   "outputs": [],
   "source": [
    "# Which competition had the highest average attendance?"
   ]
  },
  {
   "cell_type": "code",
   "execution_count": null,
   "metadata": {},
   "outputs": [],
   "source": [
    "# Assuming your DataFrame is named games_df\n",
    "# Find the competition with the highest average attendance\n",
    "highest_average_attendance_competition = games_df.groupby('competition_id')['attendance'].mean().idxmax()\n",
    "\n",
    "print(f\"The competition with the highest average attendance is {highest_average_attendance_competition}.\")\n"
   ]
  },
  {
   "cell_type": "code",
   "execution_count": null,
   "metadata": {},
   "outputs": [],
   "source": [
    "# Assuming your DataFrame is named games_df\n",
    "# Find the top 10 competitions with the highest average attendance\n",
    "top_avg_attendance_competitions = games_df.groupby('competition_id')['attendance'].mean().nlargest(10)\n",
    "\n",
    "# Plotting top 10 competitions with the highest average attendance\n",
    "plt.figure(figsize=(12, 8))\n",
    "top_avg_attendance_competitions.plot(kind='bar', color='blue')\n",
    "plt.title('Top 10 Competitions with the Highest Average Attendance')\n",
    "plt.xlabel('Competition')\n",
    "plt.ylabel('Average Attendance')\n",
    "plt.xticks(rotation=45, ha='right')\n",
    "plt.show()\n"
   ]
  },
  {
   "cell_type": "code",
   "execution_count": null,
   "metadata": {},
   "outputs": [],
   "source": []
  },
  {
   "cell_type": "code",
   "execution_count": null,
   "metadata": {},
   "outputs": [],
   "source": [
    "# Plotting player height distribution\n",
    "plt.figure(figsize=(12, 8))\n",
    "plt.hist(players_df['height_in_cm'].dropna(), bins=20, color='cyan', edgecolor='black')\n",
    "plt.title('Distribution of Player Heights')\n",
    "plt.xlabel('Height (cm)')\n",
    "plt.ylabel('Number of Players')\n",
    "plt.show()\n"
   ]
  },
  {
   "cell_type": "code",
   "execution_count": null,
   "metadata": {},
   "outputs": [],
   "source": [
    "# Which competition had the highest total number of goals scored?"
   ]
  },
  {
   "cell_type": "code",
   "execution_count": null,
   "metadata": {},
   "outputs": [],
   "source": [
    "# Assuming your DataFrame is named games_df\n",
    "# Find the competition with the highest total number of goals scored\n",
    "highest_total_goals_competition = games_df.groupby('competition_id')['home_club_goals', 'away_club_goals'].sum().sum(axis=1).idxmax()\n",
    "\n",
    "print(f\"The competition with the highest total number of goals scored is {highest_total_goals_competition}.\")\n"
   ]
  },
  {
   "cell_type": "code",
   "execution_count": null,
   "metadata": {},
   "outputs": [],
   "source": [
    "# Assuming your DataFrame is named games_df\n",
    "# Calculate total goals for each competition\n",
    "total_goals_per_competition = games_df.groupby('competition_id')['home_club_goals', 'away_club_goals'].sum().sum(axis=1)\n",
    "\n",
    "# Find the competition with the highest total number of goals scored\n",
    "highest_total_goals_competition = total_goals_per_competition.idxmax()\n",
    "\n",
    "print(f\"The competition with the highest total number of goals scored is {highest_total_goals_competition}.\")\n",
    "\n",
    "# Plotting total goals per competition\n",
    "plt.figure(figsize=(12, 8))\n",
    "total_goals_per_competition.sort_values(ascending=False).plot(kind='bar', color='skyblue')\n",
    "plt.title('Total Goals per Competition')\n",
    "plt.xlabel('Competition')\n",
    "plt.ylabel('Total Goals')\n",
    "plt.xticks(rotation=45, ha='right')\n",
    "plt.show()\n"
   ]
  },
  {
   "cell_type": "code",
   "execution_count": null,
   "metadata": {},
   "outputs": [],
   "source": [
    "#Visualizing Player Positions Distribution"
   ]
  },
  {
   "cell_type": "code",
   "execution_count": null,
   "metadata": {},
   "outputs": [],
   "source": [
    "# Plotting player positions distribution\n",
    "plt.figure(figsize=(12, 8))\n",
    "players_df['position'].value_counts().plot(kind='bar', color='magenta')\n",
    "plt.title('Distribution of Player Positions')\n",
    "plt.xlabel('Position')\n",
    "plt.ylabel('Number of Players')\n",
    "plt.xticks(rotation=45, ha='right')\n",
    "plt.show()\n"
   ]
  },
  {
   "cell_type": "code",
   "execution_count": null,
   "metadata": {},
   "outputs": [],
   "source": [
    "# Visualizing Player Age Distribution"
   ]
  },
  {
   "cell_type": "code",
   "execution_count": null,
   "metadata": {},
   "outputs": [],
   "source": [
    "# Assuming your DataFrame is named players_df\n",
    "# Plotting player age distribution\n",
    "plt.figure(figsize=(12, 8))\n",
    "plt.hist((pd.to_datetime('now') - pd.to_datetime(players_df['date_of_birth'])).dt.days // 365, bins=20, color='darkgreen', edgecolor='black')\n",
    "plt.title('Distribution of Player Ages')\n",
    "plt.xlabel('Age')\n",
    "plt.ylabel('Number of Players')\n",
    "plt.show()\n"
   ]
  },
  {
   "cell_type": "code",
   "execution_count": null,
   "metadata": {},
   "outputs": [],
   "source": [
    "# Visualizing Club Average Age Distribution"
   ]
  },
  {
   "cell_type": "code",
   "execution_count": null,
   "metadata": {},
   "outputs": [],
   "source": [
    "# Plotting club average age distribution\n",
    "plt.figure(figsize=(12, 8))\n",
    "plt.hist(clubs_df['average_age'].dropna(), bins=20, color='indigo', edgecolor='black')\n",
    "plt.title('Distribution of Club Average Ages')\n",
    "plt.xlabel('Average Age')\n",
    "plt.ylabel('Number of Clubs')\n",
    "plt.show()\n"
   ]
  },
  {
   "cell_type": "code",
   "execution_count": null,
   "metadata": {},
   "outputs": [],
   "source": [
    "# Visualizing Club Stadium Capacity Distribution"
   ]
  },
  {
   "cell_type": "code",
   "execution_count": null,
   "metadata": {},
   "outputs": [],
   "source": [
    "# Assuming your DataFrame is named clubs_df\n",
    "# Plotting club stadium capacity distribution\n",
    "plt.figure(figsize=(12, 8))\n",
    "plt.hist(clubs_df['stadium_seats'].dropna(), bins=20, color='purple', edgecolor='black')\n",
    "plt.title('Distribution of Club Stadium Capacities')\n",
    "plt.xlabel('Stadium Capacity (Seats)')\n",
    "plt.ylabel('Number of Clubs')\n",
    "plt.show()\n"
   ]
  },
  {
   "cell_type": "code",
   "execution_count": null,
   "metadata": {},
   "outputs": [],
   "source": []
  },
  {
   "cell_type": "code",
   "execution_count": null,
   "metadata": {},
   "outputs": [],
   "source": [
    "#Visualization for Player Foot Distribution"
   ]
  },
  {
   "cell_type": "code",
   "execution_count": null,
   "metadata": {},
   "outputs": [],
   "source": [
    "# Assuming your DataFrame is named players_df\n",
    "# Plotting player foot distribution\n",
    "plt.figure(figsize=(8, 6))\n",
    "players_df['foot'].value_counts().plot(kind='bar', color='pink')\n",
    "plt.title('Distribution of Player Preferred Foot')\n",
    "plt.xlabel('Preferred Foot')\n",
    "plt.ylabel('Number of Players')\n",
    "plt.xticks(rotation=0)\n",
    "plt.show()\n"
   ]
  },
  {
   "cell_type": "code",
   "execution_count": null,
   "metadata": {},
   "outputs": [],
   "source": [
    "# How frequent left footers are versus right footers across positions?"
   ]
  },
  {
   "cell_type": "code",
   "execution_count": null,
   "metadata": {},
   "outputs": [],
   "source": [
    "import pandas as pd\n",
    "players_df_clean = players_df_clean[players_df_clean[\"position\"] != 'Missing']\n",
    "\n",
    "# Assuming players_df is your DataFrame\n",
    "unique_positions = players_df_clean[\"position\"].unique()\n",
    "\n",
    "# Print or use the unique positions\n",
    "print(\"Unique Positions:\", unique_positions)\n"
   ]
  },
  {
   "cell_type": "code",
   "execution_count": null,
   "metadata": {},
   "outputs": [],
   "source": [
    "import pandas as pd\n",
    "import matplotlib.pyplot as plt\n",
    "\n",
    "# Assuming players_df is your DataFrame\n",
    "\n",
    "\n",
    "\n",
    "# Group by \"position\" and \"foot\" and count the number of players\n",
    "players_by_foot = players_df_clean.groupby(by=[\"position\", \"foot\"]).size()\n",
    "\n",
    "# Create a pie chart\n",
    "fig, axes = plt.subplots(nrows=1, ncols=len(players_by_foot.index.levels[0]), figsize=(18, 18))\n",
    "\n",
    "for i, pos in enumerate(players_by_foot.index.levels[0]):\n",
    "    players_by_foot[pos].plot.pie(ax=axes[i], autopct='%1.1f%%', title=pos)\n",
    "    axes[i].set_ylabel('')  # Remove y-axis label for better presentation\n",
    "\n",
    "plt.show()\n"
   ]
  },
  {
   "cell_type": "code",
   "execution_count": null,
   "metadata": {},
   "outputs": [],
   "source": []
  },
  {
   "cell_type": "code",
   "execution_count": null,
   "metadata": {},
   "outputs": [],
   "source": [
    "import geopandas as gpd\n",
    "from shapely.geometry import Point\n",
    "import matplotlib.pyplot as plt\n",
    "\n",
    "# Assuming your DataFrame is named players_df\n",
    "# Assuming 'country_of_birth' column contains the country names\n",
    "\n",
    "# Load world map shapefile (you need to have the 'naturalearth_lowres' shapefile)\n",
    "world = gpd.read_file(gpd.datasets.get_path('naturalearth_lowres'))\n",
    "\n",
    "# Count the number of players from each country\n",
    "players_count_by_country = players_df['country_of_birth'].value_counts().reset_index()\n",
    "players_count_by_country.columns = ['name', 'players_count']\n",
    "\n",
    "# Merge the player count with the world map\n",
    "world = world.merge(players_count_by_country, left_on='name', right_on='name', how='left')\n",
    "\n",
    "# Fill NaN values with 0 (countries with no players)\n",
    "world['players_count'] = world['players_count'].fillna(0)\n",
    "\n",
    "# Plotting the geographical map\n",
    "fig, ax = plt.subplots(1, 1, figsize=(15, 10))\n",
    "world.boundary.plot(ax=ax)\n",
    "world.plot(column='players_count', ax=ax, legend=True, legend_kwds={'label': \"Number of Players by Country\"})\n",
    "plt.title('Distribution of Players Based on Country of Birth')\n",
    "plt.show()\n"
   ]
  },
  {
   "cell_type": "code",
   "execution_count": null,
   "metadata": {},
   "outputs": [],
   "source": [
    "import geopandas as gpd\n",
    "from shapely.geometry import Point\n",
    "import matplotlib.pyplot as plt\n",
    "from geopy.geocoders import Nominatim\n",
    "\n",
    "# Assuming your DataFrame is named players_df\n",
    "# Assuming 'country_of_birth' column contains the country names\n",
    "\n",
    "# Load world map shapefile (you need to have the 'naturalearth_lowres' shapefile)\n",
    "world = gpd.read_file(gpd.datasets.get_path('naturalearth_lowres'))\n",
    "\n",
    "# Filter world map to include only European countries\n",
    "european_countries = ['Albania', 'Andorra', 'Austria', 'Belarus', 'Belgium', 'Bosnia and Herzegovina', 'Bulgaria', 'Croatia', 'Cyprus', 'Czech Republic', 'Denmark', 'Estonia', 'Finland', 'France', 'Germany', 'Greece', 'Hungary', 'Iceland', 'Ireland', 'Italy', 'Latvia', 'Liechtenstein', 'Lithuania', 'Luxembourg', 'Malta', 'Moldova', 'Monaco', 'Montenegro', 'Netherlands', 'North Macedonia', 'Norway', 'Poland', 'Portugal', 'Romania', 'Russia', 'San Marino', 'Serbia', 'Slovakia', 'Slovenia', 'Spain', 'Sweden', 'Switzerland', 'Ukraine', 'United Kingdom', 'Vatican City']\n",
    "\n",
    "world = world[world['name'].isin(european_countries)]\n",
    "\n",
    "# Count the number of players from each country\n",
    "players_count_by_country = players_df['country_of_birth'].value_counts().reset_index()\n",
    "players_count_by_country.columns = ['name', 'players_count']\n",
    "\n",
    "# Merge the player count with the world map\n",
    "world = world.merge(players_count_by_country, left_on='name', right_on='name', how='left')\n",
    "\n",
    "# Fill NaN values with 0 (countries with no players)\n",
    "world['players_count'] = world['players_count'].fillna(0)\n",
    "\n",
    "# Plotting the geographical map\n",
    "fig, ax = plt.subplots(1, 1, figsize=(15, 10))\n",
    "world.boundary.plot(ax=ax)\n",
    "world.plot(column='players_count', ax=ax, legend=True, legend_kwds={'label': \"Number of Players by Country\"})\n",
    "plt.title('Distribution of Players Based on Country of Birth (Europe Only)')\n",
    "plt.show()\n"
   ]
  },
  {
   "cell_type": "code",
   "execution_count": null,
   "metadata": {},
   "outputs": [],
   "source": [
    "import geopandas as gpd\n",
    "from shapely.geometry import Point\n",
    "import matplotlib.pyplot as plt\n",
    "from geopy.geocoders import Nominatim\n",
    "\n",
    "# Assuming your DataFrame is named players_df\n",
    "# Assuming 'country_of_birth' column contains the country names\n",
    "\n",
    "# Load world map shapefile (you need to have the 'naturalearth_lowres' shapefile)\n",
    "world = gpd.read_file(gpd.datasets.get_path('naturalearth_lowres'))\n",
    "\n",
    "# Filter world map to include only European countries\n",
    "european_countries = ['Albania', 'Andorra', 'Austria', 'Belarus', 'Belgium', 'Bosnia and Herzegovina', 'Bulgaria', 'Croatia', 'Cyprus', 'Czech Republic', 'Denmark', 'Estonia', 'Finland', 'France', 'Germany', 'Greece', 'Hungary', 'Iceland', 'Ireland', 'Italy', 'Latvia', 'Liechtenstein', 'Lithuania', 'Luxembourg', 'Malta', 'Moldova', 'Monaco', 'Montenegro', 'Netherlands', 'North Macedonia', 'Norway', 'Poland', 'Portugal', 'Romania', 'Russia', 'San Marino', 'Serbia', 'Slovakia', 'Slovenia', 'Spain', 'Sweden', 'Switzerland', 'Ukraine', 'United Kingdom', 'Vatican City']\n",
    "\n",
    "world = world[world['name'].isin(european_countries)]\n",
    "\n",
    "# Count the number of players from each country\n",
    "players_count_by_country = players_df['country_of_birth'].value_counts().reset_index()\n",
    "players_count_by_country.columns = ['name', 'players_count']\n",
    "\n",
    "# Merge the player count with the world map\n",
    "world = world.merge(players_count_by_country, left_on='name', right_on='name', how='left')\n",
    "\n",
    "# Fill NaN values with 0 (countries with no players)\n",
    "world['players_count'] = world['players_count'].fillna(0)\n",
    "\n",
    "# Plotting the geographical map\n",
    "fig, ax = plt.subplots(figsize=(20, 15))\n",
    "world.boundary.plot(ax=ax)\n",
    "world.plot(column='players_count', ax=ax, legend=True, legend_kwds={'label': \"Number of Players by Country\"})\n",
    "plt.title('Distribution of Players Based on Country of Birth (Europe Only)')\n",
    "plt.show()\n"
   ]
  },
  {
   "cell_type": "code",
   "execution_count": null,
   "metadata": {},
   "outputs": [],
   "source": [
    "import geopandas as gpd\n",
    "from shapely.geometry import Point\n",
    "import matplotlib.pyplot as plt\n",
    "\n",
    "# Assuming your DataFrame is named players_df\n",
    "# Assuming 'country_of_birth' column contains the country names\n",
    "\n",
    "# Filter players with market_value_in_eur greater than 50,000,000\n",
    "high_value_players = players_df[players_df['market_value_in_eur'] > 50000000]\n",
    "\n",
    "# Load world map shapefile (you need to have the 'naturalearth_lowres' shapefile)\n",
    "world = gpd.read_file(gpd.datasets.get_path('naturalearth_lowres'))\n",
    "\n",
    "# Count the number of players from each country\n",
    "players_count_by_country = high_value_players['country_of_birth'].value_counts().reset_index()\n",
    "players_count_by_country.columns = ['name', 'players_count']\n",
    "\n",
    "# Merge the player count with the world map\n",
    "world = world.merge(players_count_by_country, left_on='name', right_on='name', how='left')\n",
    "\n",
    "# Fill NaN values with 0 (countries with no players)\n",
    "world['players_count'] = world['players_count'].fillna(0)\n",
    "\n",
    "# Plotting the geographical map\n",
    "fig, ax = plt.subplots(1, 1, figsize=(15, 10))\n",
    "world.boundary.plot(ax=ax)\n",
    "world.plot(column='players_count', ax=ax, legend=True, legend_kwds={'label': \"Number of Players by Country\"})\n",
    "plt.title('Distribution of Players with Market Value > 50,000,000 EUR')\n",
    "plt.show()\n"
   ]
  },
  {
   "cell_type": "code",
   "execution_count": null,
   "metadata": {},
   "outputs": [],
   "source": [
    "import geopandas as gpd\n",
    "from shapely.geometry import Point\n",
    "import matplotlib.pyplot as plt\n",
    "\n",
    "# Assuming your DataFrame is named players_df\n",
    "# Assuming 'country_of_birth' column contains the country names\n",
    "\n",
    "# Load world map shapefile (you need to have the 'naturalearth_lowres' shapefile)\n",
    "world = gpd.read_file(gpd.datasets.get_path('naturalearth_lowres'))\n",
    "\n",
    "# Group players by country and calculate the average market value for each country\n",
    "average_price_by_country = players_df.groupby('country_of_birth')['market_value_in_eur'].mean().reset_index()\n",
    "average_price_by_country.columns = ['name', 'average_price']\n",
    "\n",
    "# Merge the average price with the world map\n",
    "world = world.merge(average_price_by_country, left_on='name', right_on='name', how='left')\n",
    "\n",
    "# Fill NaN values with 0 (countries with no players)\n",
    "world['average_price'] = world['average_price'].fillna(0)\n",
    "\n",
    "# Plotting the geographical map\n",
    "fig, ax = plt.subplots(1, 1, figsize=(15, 10))\n",
    "world.boundary.plot(ax=ax)\n",
    "world.plot(column='average_price', ax=ax, legend=True, legend_kwds={'label': \"Average Price by Country\"})\n",
    "plt.title('Average Price of Players in Each Country')\n",
    "plt.show()\n"
   ]
  },
  {
   "cell_type": "code",
   "execution_count": null,
   "metadata": {},
   "outputs": [],
   "source": [
    "import geopandas as gpd\n",
    "import pandas as pd\n",
    "\n",
    "# Assuming your DataFrame is named players_df\n",
    "# Assuming 'country_of_birth' column contains the country names\n",
    "# Assuming 'market_value_in_eur' column contains the market value of players\n",
    "\n",
    "# Load world map shapefile (you need to have the 'naturalearth_lowres' shapefile)\n",
    "world = gpd.read_file(gpd.datasets.get_path('naturalearth_lowres'))\n",
    "\n",
    "# Merge the player data with the continent information\n",
    "players_with_continent = pd.merge(players_df, world[['name', 'continent']], left_on='country_of_birth', right_on='name')\n",
    "\n",
    "# Group by continent and calculate the average market value\n",
    "average_market_value_by_continent = players_with_continent.groupby('continent')['market_value_in_eur'].mean().reset_index()\n",
    "\n",
    "# Plotting the average market value for each continent\n",
    "fig, ax = plt.subplots(figsize=(10, 6))\n",
    "average_market_value_by_continent.plot(kind='bar', x='continent', y='market_value_in_eur', ax=ax, legend=False)\n",
    "plt.title('Average Market Value of Players in Each Continent')\n",
    "plt.xlabel('Continent')\n",
    "plt.ylabel('Average Market Value (EUR)')\n",
    "plt.show()\n"
   ]
  },
  {
   "cell_type": "code",
   "execution_count": null,
   "metadata": {},
   "outputs": [],
   "source": [
    "import plotly.express as px\n",
    "import pandas as pd\n",
    "\n",
    "# Assuming your DataFrame is named players_df\n",
    "# Assuming 'country_of_birth' column contains the country names\n",
    "\n",
    "# Count the number of players from each country\n",
    "players_count_by_country = players_df['country_of_birth'].value_counts().reset_index()\n",
    "players_count_by_country.columns = ['country', 'players_count']\n",
    "\n",
    "# Load gapminder dataset for world map data\n",
    "world = px.data.gapminder()\n",
    "\n",
    "# Merge the player count with the world map\n",
    "world = world.merge(players_count_by_country, left_on='country', right_on='country', how='left')\n",
    "\n",
    "# Fill NaN values with 0 (countries with no players)\n",
    "world['players_count'] = world['players_count'].fillna(0)\n",
    "\n",
    "# Create an interactive choropleth map\n",
    "fig = px.choropleth(world, \n",
    "                    locations='iso_alpha',  # use 'iso_alpha' for countries\n",
    "                    color='players_count',\n",
    "                    color_continuous_scale='Viridis',\n",
    "                    title='Distribution of Players Based on Country of Birth',\n",
    "                    labels={'players_count': 'Number of Players'},\n",
    "                    template='plotly',\n",
    "                    hover_name='country',\n",
    "                    projection='natural earth'\n",
    "                   )\n",
    "\n",
    "# Show the interactive plot\n",
    "fig.show()\n"
   ]
  },
  {
   "cell_type": "code",
   "execution_count": null,
   "metadata": {},
   "outputs": [],
   "source": [
    "#Club Compare"
   ]
  },
  {
   "cell_type": "code",
   "execution_count": null,
   "metadata": {},
   "outputs": [],
   "source": [
    "import pandas as pd\n",
    "\n",
    "# Assuming your DataFrame is named clubs_df\n",
    "# Drop the first total_market_value column\n",
    "clubs_df = clubs_df.drop(columns='total_market_value', axis=1)\n",
    "\n",
    "# Display the modified DataFrame\n",
    "print(clubs_df.head())\n"
   ]
  },
  {
   "cell_type": "code",
   "execution_count": null,
   "metadata": {},
   "outputs": [],
   "source": [
    "clubs_df.info()"
   ]
  },
  {
   "cell_type": "code",
   "execution_count": null,
   "metadata": {},
   "outputs": [],
   "source": [
    "import pandas as pd\n",
    "\n",
    "# Assuming your DataFrames are named players_df and clubs_df\n",
    "\n",
    "# Filter players_df for relevant columns\n",
    "player_market_value = players_df[['last_season', 'current_club_id', 'market_value_in_eur']]\n",
    "\n",
    "# Filter players with non-null market_value_in_eur\n",
    "player_market_value = player_market_value.dropna(subset=['market_value_in_eur'])\n",
    "\n",
    "# Group by club and season, summing the market values\n",
    "club_market_value = player_market_value.groupby(['current_club_id', 'last_season'])['market_value_in_eur'].sum().reset_index()\n",
    "\n",
    "# Merge the updated market values back to clubs_df\n",
    "clubs_df = pd.merge(clubs_df, club_market_value, left_on=['club_id', 'last_season'], right_on=['current_club_id', 'last_season'], how='left')\n",
    "\n",
    "# Drop unnecessary columns\n",
    "clubs_df.drop(['current_club_id'], axis=1, inplace=True)\n",
    "\n",
    "# Rename the merged column to 'total_market_value'\n",
    "clubs_df.rename(columns={'market_value_in_eur': 'total_market_value'}, inplace=True)\n",
    "\n",
    "# Fill NaN values with 0\n",
    "clubs_df['total_market_value'].fillna(0, inplace=True)\n",
    "\n",
    "# Display or use the updated clubs_df\n",
    "print(clubs_df[['name', 'total_market_value']])\n"
   ]
  },
  {
   "cell_type": "code",
   "execution_count": null,
   "metadata": {},
   "outputs": [],
   "source": [
    "clubs_df.info()"
   ]
  },
  {
   "cell_type": "code",
   "execution_count": null,
   "metadata": {},
   "outputs": [],
   "source": [
    "\n",
    "top_10_clubs = clubs_df.sort_values(by='total_market_value', ascending=False).head(1000)\n",
    "\n",
    "# Print the top 10 clubs with their total market value\n",
    "print(top_10_clubs[['name', 'total_market_value']].head(100))\n"
   ]
  },
  {
   "cell_type": "code",
   "execution_count": null,
   "metadata": {},
   "outputs": [],
   "source": [
    "import matplotlib.pyplot as plt\n",
    "import seaborn as sns\n",
    "\n",
    "# Set the style for seaborn plots\n",
    "sns.set(style=\"whitegrid\")\n",
    "\n",
    "# Filter data for the top 10 clubs based on total market value\n",
    "top_10_clubs_total_value = top_10_clubs.sort_values(by='total_market_value', ascending=False).head(10)\n",
    "\n",
    "# Plotting Total Market Value Distribution\n",
    "plt.figure(figsize=(10, 6))\n",
    "sns.barplot(x='total_market_value', y='name', data=top_10_clubs_total_value, palette=\"viridis\")\n",
    "plt.title('Total Market Value Distribution of Top 10 Clubs')\n",
    "plt.xlabel('Total Market Value (in billions)')\n",
    "plt.ylabel('Club')\n",
    "plt.show()\n"
   ]
  },
  {
   "cell_type": "code",
   "execution_count": null,
   "metadata": {},
   "outputs": [],
   "source": [
    "# Question 2: Squad Size Comparison"
   ]
  },
  {
   "cell_type": "code",
   "execution_count": null,
   "metadata": {},
   "outputs": [],
   "source": [
    "plt.figure(figsize=(10, 6))\n",
    "sns.barplot(x='squad_size', y='name', data=top_10_clubs_total_value, palette=\"mako\")\n",
    "plt.title('Squad Size Comparison of Top 10 Clubs')\n",
    "plt.xlabel('Squad Size')\n",
    "plt.ylabel('Club')\n",
    "plt.show()\n"
   ]
  },
  {
   "cell_type": "code",
   "execution_count": null,
   "metadata": {},
   "outputs": [],
   "source": [
    "plt.figure(figsize=(10, 6))\n",
    "sns.scatterplot(x='average_age', y='total_market_value', data=top_10_clubs_total_value, hue='name', palette=\"muted\", s=100)\n",
    "plt.title('Average Age vs. Total Market Value for Top 10 Clubs')\n",
    "plt.xlabel('Average Age')\n",
    "plt.ylabel('Total Market Value (in billions)')\n",
    "plt.show()\n"
   ]
  },
  {
   "cell_type": "code",
   "execution_count": null,
   "metadata": {},
   "outputs": [],
   "source": [
    "plt.figure(figsize=(10, 6))\n",
    "sns.barplot(x='foreigners_percentage', y='name', data=top_10_clubs_total_value, palette=\"rocket\")\n",
    "plt.title('Foreign Players Percentage in Top 10 Clubs')\n",
    "plt.xlabel('Foreign Players Percentage')\n",
    "plt.ylabel('Club')\n",
    "plt.show()\n"
   ]
  },
  {
   "cell_type": "code",
   "execution_count": null,
   "metadata": {},
   "outputs": [],
   "source": [
    "temp =clubs_df"
   ]
  },
  {
   "cell_type": "code",
   "execution_count": null,
   "metadata": {},
   "outputs": [],
   "source": [
    "# Question 7: Pie chart showing the distribution of player positions in each club\n",
    "plt.figure(figsize=(10, 10))\n",
    "for club in top_10_clubs['name']:\n",
    "    positions_dist = players_df[players_df['current_club_name'] == club]['position'].value_counts()\n",
    "    plt.pie(positions_dist, labels=positions_dist.index, autopct='%1.1f%%', startangle=140, labeldistance=None)\n",
    "    plt.title(f'Player Position Distribution in {club}')\n",
    "    plt.show()\n"
   ]
  },
  {
   "cell_type": "markdown",
   "metadata": {},
   "source": [
    "# Iran players."
   ]
  },
  {
   "cell_type": "code",
   "execution_count": null,
   "metadata": {},
   "outputs": [],
   "source": [
    "#best value of iranian player of all time.\n"
   ]
  },
  {
   "cell_type": "code",
   "execution_count": null,
   "metadata": {},
   "outputs": [],
   "source": [
    "# Assuming players_df is your DataFrame\n",
    "# Filter the DataFrame for Iranian players\n",
    "iranian_players_df = players_df[players_df['country_of_citizenship'] == 'Iran']\n",
    "\n",
    "# Sort by 'highest_market_value_in_eur' in descending order\n",
    "iranian_players_df_sorted = iranian_players_df.sort_values(by='highest_market_value_in_eur', ascending=False)\n",
    "\n",
    "# Get the top 10 players\n",
    "top_10_iranian_players = iranian_players_df_sorted.head(10)\n",
    "\n",
    "# Print the information about the top 10 Iranian players, including 'last_season'\n",
    "print(\"Top 10 Iranian Players based on Highest Market Value:\")\n",
    "print(top_10_iranian_players[['name', 'highest_market_value_in_eur', 'last_season']])\n"
   ]
  },
  {
   "cell_type": "code",
   "execution_count": null,
   "metadata": {},
   "outputs": [],
   "source": []
  },
  {
   "cell_type": "code",
   "execution_count": null,
   "metadata": {},
   "outputs": [],
   "source": []
  },
  {
   "cell_type": "code",
   "execution_count": null,
   "metadata": {},
   "outputs": [],
   "source": []
  },
  {
   "cell_type": "code",
   "execution_count": null,
   "metadata": {},
   "outputs": [],
   "source": []
  },
  {
   "cell_type": "code",
   "execution_count": null,
   "metadata": {},
   "outputs": [],
   "source": []
  },
  {
   "cell_type": "code",
   "execution_count": null,
   "metadata": {},
   "outputs": [],
   "source": []
  },
  {
   "cell_type": "code",
   "execution_count": null,
   "metadata": {},
   "outputs": [],
   "source": []
  },
  {
   "cell_type": "code",
   "execution_count": null,
   "metadata": {},
   "outputs": [],
   "source": []
  },
  {
   "cell_type": "code",
   "execution_count": null,
   "metadata": {},
   "outputs": [],
   "source": []
  },
  {
   "cell_type": "code",
   "execution_count": null,
   "metadata": {},
   "outputs": [],
   "source": []
  },
  {
   "cell_type": "markdown",
   "metadata": {},
   "source": [
    "# 2. Predict the price of players "
   ]
  },
  {
   "cell_type": "markdown",
   "metadata": {},
   "source": [
    "# Process Data"
   ]
  },
  {
   "cell_type": "code",
   "execution_count": null,
   "metadata": {},
   "outputs": [],
   "source": [
    "# Import modules\n",
    "import pandas as pd\n",
    "import numpy as np\n",
    "import matplotlib.pyplot as plt\n",
    "import seaborn as sns\n",
    "import datetime as dt\n",
    "import calendar\n",
    "import datetime\n",
    "from datetime import datetime, timedelta, date\n",
    "import warnings\n",
    "import os\n",
    "\n",
    "from sklearn.linear_model import LogisticRegression\n",
    "from sklearn.tree import DecisionTreeRegressor\n",
    "from sklearn.ensemble import RandomForestRegressor\n",
    "from sklearn.svm import SVR\n",
    "from sklearn.ensemble import GradientBoostingRegressor\n",
    "from sklearn import ensemble\n",
    "from xgboost import XGBRegressor\n",
    "from lightgbm import LGBMRegressor\n",
    "from sklearn.model_selection import cross_val_score\n",
    "from sklearn.model_selection import train_test_split\n",
    "\n",
    "#settings\n",
    "pd.set_option('display.max_row', 100)\n",
    "pd.set_option('display.max_columns', 1200)\n",
    "pd.set_option('display.width', 1200)\n",
    "warnings.filterwarnings(\"ignore\")\n",
    "%matplotlib inline\n",
    "\n",
    "#variables\n",
    "colour=['maroon','r','g','darkgreen','c','teal','b','navy','indigo','m','deeppink','orange','sienna','yellow','khaki','olive','tan','black','grey','brown']\n",
    "\n",
    "print(\"Packages installed\")"
   ]
  },
  {
   "cell_type": "code",
   "execution_count": null,
   "metadata": {},
   "outputs": [],
   "source": [
    "# Import all files in the current directory and read into dataframes\n",
    "dataframes = []\n",
    "\n",
    "# Get the current working directory\n",
    "current_directory = os.getcwd()\n",
    "\n",
    "# Look for CSV files in the current directory\n",
    "for filename in os.listdir(current_directory):\n",
    "    if filename.endswith(\".csv\"):\n",
    "        file = filename.split('.')[0] + \"_df\"\n",
    "        filepath = os.path.join(current_directory, filename)\n",
    "        df = pd.read_csv(filepath, sep=\",\", encoding=\"UTF-8\")\n",
    "        exec(f'{file} = df.copy()')\n",
    "        print(file, df.shape)\n",
    "        dataframes.append(df)\n",
    "\n",
    "print('Data imported')\n"
   ]
  },
  {
   "cell_type": "code",
   "execution_count": null,
   "metadata": {},
   "outputs": [],
   "source": [
    "clubs_df = temp"
   ]
  },
  {
   "cell_type": "code",
   "execution_count": null,
   "metadata": {
    "scrolled": true
   },
   "outputs": [],
   "source": [
    "appearances_df.info()"
   ]
  },
  {
   "cell_type": "code",
   "execution_count": null,
   "metadata": {},
   "outputs": [],
   "source": [
    "games_df.info()"
   ]
  },
  {
   "cell_type": "code",
   "execution_count": null,
   "metadata": {},
   "outputs": [],
   "source": [
    "player_valuations_df.info()"
   ]
  },
  {
   "cell_type": "code",
   "execution_count": null,
   "metadata": {},
   "outputs": [],
   "source": [
    "# Calculate the age of each player\n",
    "players_df['date_of_birth'] = pd.to_datetime(players_df['date_of_birth'])\n",
    "# drop players with no date of birth\n",
    "players_df = players_df[players_df['date_of_birth'].isnull() == False]\n",
    "now = datetime.now()\n",
    "players_df['age'] = (now - players_df['date_of_birth']).apply(lambda x: x.days) / 365.25\n",
    "players_df['age'] = players_df['age'].round().astype(int) \n",
    "\n",
    "# Calculate the contract remaining of each player\n",
    "players_df['contract_expiration_date'] = pd.to_datetime(players_df['contract_expiration_date'])\n",
    "# drop players with no date of birth\n",
    "players_df = players_df[players_df['contract_expiration_date'].isnull() == False]\n",
    "now = datetime.now()\n",
    "players_df['term_days_remaining'] = (players_df['contract_expiration_date']- now).apply(lambda x: x.days) \n",
    "\n",
    "# add year to player valuations\n",
    "player_valuations_df['date']=pd.to_datetime(player_valuations_df['date'], format=\"%Y-%m-%d\")\n",
    "player_valuations_df['year']=player_valuations_df['date'].dt.year\n",
    "\n",
    "# add year to player appearances\n",
    "appearances_df['datetime']=pd.to_datetime(appearances_df['date'], format=\"%Y-%m-%d\")\n",
    "appearances_df['year']=appearances_df['datetime'].dt.year\n",
    "\n",
    "#add position to player valuations\n",
    "position_df=players_df.copy()\n",
    "position_df=position_df.drop(['name', 'current_club_id', 'current_club_name', 'country_of_citizenship', 'country_of_birth', 'city_of_birth', 'date_of_birth', 'foot', 'height_in_cm', 'market_value_in_eur', 'highest_market_value_in_eur', 'agent_name', 'contract_expiration_date', 'current_club_domestic_competition_id', 'first_name', 'last_name', 'player_code', 'image_url', 'last_season', 'url', 'age'], axis=1)\n",
    "player_valuations_df=player_valuations_df.merge(position_df, left_on='player_id', right_on='player_id')\n",
    "\n",
    "#add position to appearances\n",
    "value_df=players_df.copy()\n",
    "value_df=value_df.drop(['name', 'current_club_id', 'current_club_name', 'country_of_citizenship', 'country_of_birth', 'city_of_birth', 'date_of_birth', 'foot', 'height_in_cm', 'sub_position', 'highest_market_value_in_eur', 'agent_name', 'contract_expiration_date', 'current_club_domestic_competition_id', 'first_name', 'last_name', 'player_code', 'image_url', 'last_season', 'url', 'age'], axis=1)\n",
    "appearances_df1=value_df.merge(appearances_df, left_on='player_id', right_on='player_id')\n",
    "\n",
    "print(\"Data processing complete\")"
   ]
  },
  {
   "cell_type": "markdown",
   "metadata": {},
   "source": [
    "# Player Valuation Data Visualization"
   ]
  },
  {
   "cell_type": "code",
   "execution_count": null,
   "metadata": {
    "execution": {
     "iopub.execute_input": "2023-03-21T03:28:37.474888Z",
     "iopub.status.busy": "2023-03-21T03:28:37.473842Z",
     "iopub.status.idle": "2023-03-21T03:28:41.771397Z",
     "shell.execute_reply": "2023-03-21T03:28:41.769929Z",
     "shell.execute_reply.started": "2023-03-21T03:28:37.474835Z"
    }
   },
   "outputs": [],
   "source": [
    "#filter range\n",
    "player_valuations_df = player_valuations_df[(player_valuations_df.year > 2004 ) & (player_valuations_df.year < 2023 )]\n",
    "high_value_player_valuations_df = player_valuations_df[(player_valuations_df.market_value_in_eur > 40000000 )]\n",
    "positions=players_df.position.unique()\n",
    "\n",
    "# Lookat data\n",
    "#print(player_valuations_df.columns)\n",
    "\n",
    "# Visualize of valuation data over time\n",
    "plt.figure(figsize=(20,8))\n",
    "plt.scatter(player_valuations_df['date'],y=player_valuations_df['market_value_in_eur']/1000000, c='red',alpha=0.15)\n",
    "plt.xlabel('date');plt.ylabel('Valuation in million euros')\n",
    "plt.title('Player valuations over time',fontsize=28)\n",
    "plt.show()\n",
    "\n",
    "# Visualize of valuation data over time\n",
    "f = plt.figure(figsize=(20,8))\n",
    "ax = f.add_subplot(121)\n",
    "ax2 = f.add_subplot(122)\n",
    "yeargroups1 = player_valuations_df.loc[:,['market_value_in_eur', 'year']].groupby(['year']).count() \\\n",
    "    .sort_values(by='year', ascending=True)\n",
    "yeargroups2 = player_valuations_df.loc[:,['market_value_in_eur', 'year']] .groupby(['year']).sum() \\\n",
    "    .sort_values(by='year', ascending=True)\n",
    "yeargroups3 = player_valuations_df.loc[:,['market_value_in_eur', 'year']].groupby(['year']).max() \\\n",
    "    .sort_values(by='year', ascending=True)\n",
    "yeargroups4 = player_valuations_df.loc[:,['market_value_in_eur', 'year']] .groupby(['year']).min() \\\n",
    "    .sort_values(by='year', ascending=True)\n",
    "yeargroups5 = player_valuations_df.loc[:,['market_value_in_eur', 'year']].groupby(['year']).median() \\\n",
    "    .sort_values(by='year', ascending=True)\n",
    "yeargroups6 = player_valuations_df.loc[:,['market_value_in_eur', 'year']].groupby(['year']).mean() \\\n",
    "    .sort_values(by='year', ascending=True)\n",
    "\n",
    "plt.subplot(1, 2, 1)                 \n",
    "plt.title('Number of player valuations recorded per year')\n",
    "plt.plot(yeargroups1.index,yeargroups1,color='black')\n",
    "plt.ylabel('Market value (million euros)')\n",
    "plt.subplot(1, 2, 2)\n",
    "plt.title('sum of player per year valuations')\n",
    "plt.plot(yeargroups2.index,yeargroups2/1000000,color='red')\n",
    "plt.ylabel('Market value (million euros)')\n",
    "plt.show()\n",
    "plt.figure(figsize=(20,8))\n",
    "plt.title('Max versus average player valuation over time',fontsize=28)\n",
    "plt.plot(yeargroups3.index,yeargroups3/1000000,color='r',label='max')\n",
    "plt.plot(yeargroups5.index,yeargroups5/1000000,color='Gold',label='median')\n",
    "plt.plot(yeargroups6.index,yeargroups6/1000000,color='Orange',label='mean')\n",
    "plt.ylabel('Market value (million euros)')\n",
    "plt.legend()\n",
    "plt.show()\n"
   ]
  },
  {
   "cell_type": "markdown",
   "metadata": {},
   "source": [
    "## Observations on market value timeline data\n",
    "\n",
    "The scatter plot of player valuations over the period 2006 to 2022 shows that the value of players has generally risen over time. The plot shows that the vast majority of players are at the lower end of the scale below the 50 million euros mark. \n",
    "\n",
    "Separating player values in attack,midfield,defence and goal keeper positions shows attacking positions generally achieve the highest values while goal keepers command lower values. \n",
    "\n",
    "There appears to be a shift around 2018 in where values at the higher end of the scale in most positions rose dramatically, this appears to have peaked and come down a little to 2022 rates."
   ]
  },
  {
   "cell_type": "markdown",
   "metadata": {},
   "source": [
    "# Player Data Visualization\n",
    "\n",
    "Explorator data visualizations relating to players who's last season played was 2022 or 2023 with a market value of greater that 15 million euros."
   ]
  },
  {
   "cell_type": "code",
   "execution_count": null,
   "metadata": {
    "execution": {
     "iopub.execute_input": "2023-03-21T03:28:41.773945Z",
     "iopub.status.busy": "2023-03-21T03:28:41.77346Z",
     "iopub.status.idle": "2023-03-21T03:28:45.533559Z",
     "shell.execute_reply": "2023-03-21T03:28:45.531513Z",
     "shell.execute_reply.started": "2023-03-21T03:28:41.773892Z"
    }
   },
   "outputs": [],
   "source": [
    "#overview of player dataset\n",
    "#remove players with no Market Value\n",
    "players_df1 = players_df[players_df.highest_market_value_in_eur.isnull() == False]\n",
    "#order by Market Value\n",
    "players_df1 = players_df1.sort_values(\"highest_market_value_in_eur\", ascending = False)\n",
    "#filter by season and value\n",
    "players_df1 = players_df[players_df['last_season'] >= 2021]\n",
    "players_df1 = players_df1[players_df1['highest_market_value_in_eur'] >= 10000000]\n",
    "high_value_players_df = players_df1[(players_df1.market_value_in_eur > 40000000 )]\n",
    "positions=players_df.position.unique()\n",
    "\n",
    "# Show player age distribution\n",
    "f = plt.figure(figsize=(20,10))\n",
    "ax = f.add_subplot(121)\n",
    "ax2 = f.add_subplot(122)\n",
    "plt.subplot(1, 2, 1)\n",
    "sns.set(rc={'figure.figsize':(20,10)})\n",
    "sns.histplot(x='age',data=players_df, binwidth=1,color='b')\n",
    "plt.title(\"Age of all players\",fontsize=18)\n",
    "plt.xlabel('age'); plt.ylabel('number of players')\n",
    "plt.subplot(1, 2, 2)\n",
    "sns.histplot(x='age',data=high_value_players_df, binwidth=1,color='navy')\n",
    "plt.title(\"Age of high value players\",fontsize=18)\n",
    "plt.xlabel('age'); plt.ylabel('number of players')\n",
    "\n",
    "# Show player height distribution\n",
    "players_df3 = players_df1[players_df1.height_in_cm.isnull() == False]\n",
    "f = plt.figure(figsize=(20,10))\n",
    "ax = f.add_subplot(121)\n",
    "ax2 = f.add_subplot(122)\n",
    "plt.subplot(1, 2, 1)\n",
    "sns.set(rc={'figure.figsize':(20,10)})\n",
    "sns.histplot(x='height_in_cm',data=players_df3, binwidth=1,color='b')\n",
    "plt.title(\"Height of all players\",fontsize=18)\n",
    "plt.xlabel('height'); plt.ylabel('number of players')\n",
    "plt.subplot(1, 2, 2)\n",
    "sns.histplot(x='height_in_cm',data=high_value_players_df, binwidth=1,color='navy')\n",
    "plt.title(\"Height of high value players\",fontsize=18)\n",
    "plt.xlabel('height'); plt.ylabel('number of players')\n",
    "\n",
    "# Show position data\n",
    "players_df1 = players_df1.sort_values(\"position\", ascending = True)\n",
    "high_value_players_df1 = high_value_players_df.sort_values(\"position\", ascending = True)\n",
    "f = plt.figure(figsize=(20,8))\n",
    "ax = f.add_subplot(121)\n",
    "ax2 = f.add_subplot(122)\n",
    "plt.subplot(1, 2, 1)\n",
    "plt.title(\"position played\",fontsize=18);plt.grid(True)\n",
    "sns.histplot(x='position',data=players_df1, binwidth=1,color='b')\n",
    "plt.xlabel('position played'); plt.ylabel('number of players')\n",
    "plt.subplot(1, 2, 2)\n",
    "sns.histplot(x='position',data=high_value_players_df1, binwidth=1,color='navy')\n",
    "plt.title(\"position played\",fontsize=18);plt.grid(True)\n",
    "plt.xlabel('position played'); plt.ylabel('number of players')\n",
    "\n",
    "# Show subposition data\n",
    "players_df1 = players_df1.sort_values(\"sub_position\", ascending = True)\n",
    "high_value_players_df1 = high_value_players_df.sort_values(\"sub_position\", ascending = True)\n",
    "f = plt.figure(figsize=(20,8))\n",
    "ax = f.add_subplot(121)\n",
    "ax2 = f.add_subplot(122)\n",
    "plt.subplot(1, 2, 1)\n",
    "sns.histplot(x='sub_position',data=players_df1, binwidth=1,color='b')\n",
    "plt.title(\"sub position played by all players\",fontsize=18);plt.grid(True)\n",
    "plt.xlabel('position played'); plt.ylabel('number of players')\n",
    "plt.xticks(rotation=90, ha='right');\n",
    "plt.subplot(1, 2, 2)\n",
    "sns.histplot(x='sub_position',data=high_value_players_df1, binwidth=1,color='navy')\n",
    "plt.title(\"sub position played by high value players\",fontsize=18);plt.grid(True)\n",
    "plt.xlabel('position played'); plt.ylabel('number of players')\n",
    "plt.xticks(rotation=90, ha='right');\n",
    "\n",
    "# Show  footedness data\n",
    "players_df1 = players_df1.sort_values(\"foot\", ascending = True)\n",
    "high_value_players_df1 = high_value_players_df1.sort_values(\"foot\", ascending = True)\n",
    "f = plt.figure(figsize=(20,8))\n",
    "ax = f.add_subplot(121)\n",
    "ax2 = f.add_subplot(122)\n",
    "plt.subplot(1, 2, 1)\n",
    "sns.histplot(x='foot',data=players_df1, binwidth=1,color='b')\n",
    "plt.title(\"footedness amongst all players\",fontsize=18);plt.grid(True)\n",
    "plt.xlabel('Dominant foot'); plt.ylabel('Number of players')\n",
    "plt.subplot(1, 2, 2)\n",
    "sns.histplot(x='foot',data=high_value_players_df1, binwidth=1,color='navy')\n",
    "plt.title(\"footedness amongst high value players\",fontsize=18);plt.grid(True)\n",
    "plt.xlabel('Dominant foot'); plt.ylabel('Number of players')\n",
    "plt.xticks(rotation=90, ha='right');"
   ]
  },
  {
   "cell_type": "markdown",
   "metadata": {},
   "source": [
    "## Observations on player data visualizations\n",
    "\n",
    "Generally the distibutions of age is a skewed normal distribution and height is a normal distribution.\n",
    "Distibutions amongst high value players appear to be reflective of values within the entire dataset."
   ]
  },
  {
   "cell_type": "markdown",
   "metadata": {},
   "source": [
    "# Appearance Visualizations"
   ]
  },
  {
   "cell_type": "code",
   "execution_count": null,
   "metadata": {
    "execution": {
     "iopub.execute_input": "2023-03-21T03:28:45.539631Z",
     "iopub.status.busy": "2023-03-21T03:28:45.537104Z",
     "iopub.status.idle": "2023-03-21T03:28:50.887904Z",
     "shell.execute_reply": "2023-03-21T03:28:50.886493Z",
     "shell.execute_reply.started": "2023-03-21T03:28:45.539562Z"
    }
   },
   "outputs": [],
   "source": [
    "#print(appearances_df.columns); print(appearances_df.shape)\n",
    "\n",
    "#filter range\n",
    "appearances_df = appearances_df[(appearances_df.year > 2004 ) & (appearances_df.year <= 2023 )]\n",
    "high_value_appearances_df = appearances_df1[(appearances_df1.market_value_in_eur > 40000000 )]\n",
    "\n",
    "#Goals, assists and cards\n",
    "yeargroups1 = appearances_df.loc[:,['goals', 'year']].groupby(['year']).sum().sort_values(by='year', ascending=True)\n",
    "yeargroups2 = appearances_df.loc[:,['assists', 'year']].groupby(['year']).sum().sort_values(by='year', ascending=True)\n",
    "yeargroups3 = appearances_df.loc[:,['red_cards', 'year']].groupby(['year']).sum().sort_values(by='year', ascending=True)\n",
    "yeargroups4 = appearances_df.loc[:,['yellow_cards', 'year']].groupby(['year']).sum().sort_values(by='year', ascending=True)\n",
    "plt.plot(yeargroups1.index,yeargroups1,color='blue',label='goals')\n",
    "plt.plot(yeargroups2.index,yeargroups2,color='green',label='assists')\n",
    "plt.plot(yeargroups3.index,yeargroups3,color='red',label='red cards')\n",
    "plt.plot(yeargroups4.index,yeargroups4,color='gold',label='yellow cards')\n",
    "plt.xlabel(\"year\")\n",
    "plt.title('Minutes played',fontsize=28);plt.legend()\n",
    "plt.show()\n",
    "\n",
    "# Explore minutes played\n",
    "plt.scatter(appearances_df['datetime'],y=appearances_df['minutes_played'],alpha=0.0025,color='b')\n",
    "plt.xlabel(\"year\");plt.ylabel('minutes played')\n",
    "plt.title('Minutes played',fontsize=28)\n",
    "plt.show()\n",
    "\n",
    "# Explore minutes played\n",
    "plt.scatter(high_value_appearances_df['datetime'],y=high_value_appearances_df['minutes_played'],alpha=0.1,color='r')\n",
    "plt.xlabel(\"year\");plt.ylabel('minutes played')\n",
    "plt.title('High Value Player minutes played',fontsize=28)\n",
    "plt.show()"
   ]
  },
  {
   "cell_type": "code",
   "execution_count": null,
   "metadata": {},
   "outputs": [],
   "source": []
  },
  {
   "cell_type": "markdown",
   "metadata": {},
   "source": [
    "# Game Visualizations"
   ]
  },
  {
   "cell_type": "code",
   "execution_count": null,
   "metadata": {
    "execution": {
     "iopub.execute_input": "2023-03-21T03:28:50.889883Z",
     "iopub.status.busy": "2023-03-21T03:28:50.889472Z",
     "iopub.status.idle": "2023-03-21T03:28:53.887902Z",
     "shell.execute_reply": "2023-03-21T03:28:53.886249Z",
     "shell.execute_reply.started": "2023-03-21T03:28:50.889841Z"
    }
   },
   "outputs": [],
   "source": [
    "#print(games_df.columns) ; print(games_df.shape)\n",
    "\n",
    "#add year to game valuations\n",
    "games_df['datetime']=pd.to_datetime(games_df['date'], format=\"%Y-%m-%d\")\n",
    "games_df['year']=games_df['datetime'].dt.year\n",
    "\n",
    "#filter range\n",
    "games_df = games_df[(games_df.year > 2004 ) & (games_df.year <= 2023 )]\n",
    "\n",
    "# annual home versus away goals\n",
    "plt.title('Annual home versus away goals',fontsize=28)\n",
    "yeargroups1 = games_df.loc[:,['home_club_goals', 'year']].groupby(['year']).sum().sort_values(by='year', ascending=True)\n",
    "yeargroups2 = games_df.loc[:,['away_club_goals', 'year']].groupby(['year']).sum().sort_values(by='year', ascending=True)\n",
    "plt.plot(yeargroups1.index,yeargroups1,color='blue',label='home goals')\n",
    "plt.plot(yeargroups2.index,yeargroups2,color='red',label='away goals')\n",
    "plt.legend()\n",
    "plt.show()\n",
    "\n",
    "#home goals by competition type\n",
    "n=1;colour=['b','lightblue','cornflowerblue','b','navy']\n",
    "competition_type=games_df.competition_type.unique()\n",
    "for type in competition_type:\n",
    "    plt.subplot(1,4,n);n=n+1\n",
    "    games_df1 = games_df[(games_df.competition_type==type)] \n",
    "    plt.hist(games_df1['home_club_goals'],color=colour[n-1])\n",
    "    plt.ylim(0,14000);plt.xlim(0,10)\n",
    "    plt.xlabel(type)\n",
    "plt.show()\n",
    "\n",
    "#away goals by competition type\n",
    "n=1;colour=['yellow','pink','lightcoral','r','crimson','brick']\n",
    "for type in competition_type:\n",
    "    plt.subplot(1,4,n);n=n+1\n",
    "    games_df1 = games_df[(games_df.competition_type==type)] \n",
    "    plt.hist(games_df1['away_club_goals'],color=colour[n-1])\n",
    "    plt.ylim(0,14000);plt.xlim(0,10)\n",
    "    plt.xlabel(type)\n",
    "plt.show()\n",
    "\n",
    "# distribution of attendances\n",
    "plt.hist(games_df['attendance'])\n",
    "plt.title('Distribution of attendances',fontsize=28)\n",
    "plt.xlabel('Attendance')\n",
    "plt.show()\n",
    "\n",
    "# attendance by year\n",
    "#n=1;colour=['yellow','r','orange','b','g'];years=games_df['year'].unique()\n",
    "#for year in years:\n",
    "#    plt.subplot(1,len(years),n);n=n+1\n",
    "#    attendance_df1 = games_df[(games_df.year==year)]                                             \n",
    "#    plt.hist(attendance_df1['attendance'])\n",
    "#    plt.ylim(0,4000)\n",
    "#    plt.xlabel(year)\n",
    "#plt.show()"
   ]
  },
  {
   "cell_type": "markdown",
   "metadata": {},
   "source": [
    "# Data visualisation of market value by age"
   ]
  },
  {
   "cell_type": "code",
   "execution_count": null,
   "metadata": {
    "execution": {
     "iopub.execute_input": "2023-03-21T03:28:53.890185Z",
     "iopub.status.busy": "2023-03-21T03:28:53.889741Z",
     "iopub.status.idle": "2023-03-21T03:28:58.662493Z",
     "shell.execute_reply": "2023-03-21T03:28:58.661007Z",
     "shell.execute_reply.started": "2023-03-21T03:28:53.890111Z"
    }
   },
   "outputs": [],
   "source": [
    "#market value by age\n",
    "agegroups = players_df1.loc[:,['market_value_in_eur', 'age']] \\\n",
    "    .groupby(['age']) \\\n",
    "    .mean() \\\n",
    "    .sort_values(by='market_value_in_eur', ascending=False)\n",
    "sns.set(rc={'figure.figsize':(20,10)})\n",
    "plt.ylabel('Market value')\n",
    "sns.boxplot(x=players_df1[\"age\"], y=(players_df1['market_value_in_eur'])/1000000)\n",
    "plt.title('Average Market Value by age in Million Euros',fontsize=28)\n",
    "plt.show() \n",
    "# show Market Value for each position by age\n",
    "positions=players_df1.position.unique()\n",
    "f = plt.figure(figsize=(20,20))\n",
    "ax = f.add_subplot(421);ax2 = f.add_subplot(422);ax3 = f.add_subplot(423);ax4 = f.add_subplot(424)\n",
    "ax5 = f.add_subplot(425);ax6 = f.add_subplot(426);ax7 = f.add_subplot(427);ax8 = f.add_subplot(428)\n",
    "n=1\n",
    "for position in positions:\n",
    "    plt.subplot(4,2,n); n=n+1 \n",
    "    players_df2 = players_df1[players_df1['position'] == position]\n",
    "    agegroups = players_df2.loc[:,['market_value_in_eur', 'age']].groupby(['age']).median().sort_values(by='market_value_in_eur', ascending=False)\n",
    "    sns.boxplot(x=players_df2[\"age\"], y=(players_df2['market_value_in_eur'])/1000000)\n",
    "    title=str(position+' player market value in million euros by age');plt.title(title)\n",
    "    plt.subplot(4,2,n); n=n+1\n",
    "    high_value_players_df2 = high_value_players_df[high_value_players_df['position'] == position]\n",
    "    agegroups = high_value_players_df.loc[:,['market_value_in_eur', 'age']].groupby(['age']).median().sort_values(by='market_value_in_eur', ascending=False)\n",
    "    sns.boxplot(x=high_value_players_df2[\"age\"], y=(high_value_players_df2['market_value_in_eur'])/1000000)\n",
    "    title=str(position+' high value player market value in million euros by age'); plt.title(title)\n",
    "plt.show()"
   ]
  },
  {
   "cell_type": "markdown",
   "metadata": {},
   "source": [
    "## Observations on age\n",
    "\n",
    "The age distribution of players is a skewed normal distribution starting at 17 years of age and going up 50 with an average age of 29. Players with a market value to over 400,000 euros form a normal distribution ranging from 19 to 32 years of age, with a significant number at age 25."
   ]
  },
  {
   "cell_type": "markdown",
   "metadata": {},
   "source": [
    "# Data visualisation of market value by height"
   ]
  },
  {
   "cell_type": "code",
   "execution_count": null,
   "metadata": {
    "execution": {
     "iopub.execute_input": "2023-03-21T03:28:58.66697Z",
     "iopub.status.busy": "2023-03-21T03:28:58.666532Z",
     "iopub.status.idle": "2023-03-21T03:29:05.782965Z",
     "shell.execute_reply": "2023-03-21T03:29:05.781591Z",
     "shell.execute_reply.started": "2023-03-21T03:28:58.666922Z"
    }
   },
   "outputs": [],
   "source": [
    "# drop players with no height\n",
    "players_df3 = players_df[players_df['height_in_cm'] >= 1]\n",
    "\n",
    "#market value by height\n",
    "heightgroups = players_df1.loc[:,['market_value_in_eur', 'height_in_cm']] \\\n",
    "    .groupby(['height_in_cm']) \\\n",
    "    .mean() \\\n",
    "    .sort_values(by='market_value_in_eur', ascending=False)\n",
    "sns.set(rc={'figure.figsize':(20,10)})\n",
    "plt.ylabel('Market value')\n",
    "sns.boxplot(x=players_df1[\"height_in_cm\"], y=(players_df1['market_value_in_eur'])/1000000)\n",
    "plt.title('Average Market Value by height in Million Euros', fontsize=28)\n",
    "plt.show() \n",
    "\n",
    "# show Market Value for each position by height\n",
    "f = plt.figure(figsize=(20,20))\n",
    "ax = f.add_subplot(421);ax2 = f.add_subplot(422);ax3 = f.add_subplot(423);ax4 = f.add_subplot(424)\n",
    "ax5 = f.add_subplot(425);ax6 = f.add_subplot(426);ax7 = f.add_subplot(427);ax8 = f.add_subplot(428)\n",
    "\n",
    "n=1\n",
    "for position in positions:\n",
    "    plt.subplot(4,2,n)\n",
    "    n=n+1 \n",
    "    players_df4 = players_df3[players_df3['position'] == position]\n",
    "    heightgroups = players_df4.loc[:,['market_value_in_eur', 'height_in_cm']] \\\n",
    "    .groupby(['height_in_cm']) \\\n",
    "    .median() \\\n",
    "    .sort_values(by='market_value_in_eur', ascending=False)\n",
    "    sns.boxplot(x=players_df4[\"height_in_cm\"], y=(players_df4['market_value_in_eur'])/1000000)\n",
    "    title=str(position+' player market value in million euros by height')\n",
    "    plt.title(title)\n",
    "    plt.subplot(4,2,n); n=n+1\n",
    "    high_value_players_df2 = high_value_players_df[high_value_players_df['position'] == position]\n",
    "    heightgroups = high_value_players_df2.loc[:,['market_value_in_eur', 'height_in_cm']] \\\n",
    "    .groupby(['height_in_cm']) \\\n",
    "    .median() \\\n",
    "    .sort_values(by='market_value_in_eur', ascending=False)\n",
    "    sns.boxplot(x=high_value_players_df2[\"height_in_cm\"], y=(high_value_players_df2['market_value_in_eur'])/1000000)\n",
    "    title=str(position+' high value player market value in million euros by height')\n",
    "    plt.title(title)\n",
    "plt.show()"
   ]
  },
  {
   "cell_type": "markdown",
   "metadata": {},
   "source": [
    "## Observations on height\n",
    "\n",
    "The height distribution of players is a normal distribution ranging from 160cm to 200cm with an average age of 181cm. The average height for heigh value players is about 1cm taller that the general average.\n",
    "\n",
    "There are relatively fee high value goal keepers, but they are all tall ranging froom 188 to 200cm.\n",
    "\n",
    "There appears to be a normal like relationship between height and market value for each position when you look at all players, but does not appear to be any significant relationship between height and market value in the most valuable players."
   ]
  },
  {
   "cell_type": "markdown",
   "metadata": {},
   "source": [
    "## Top players by Market Value"
   ]
  },
  {
   "cell_type": "code",
   "execution_count": null,
   "metadata": {
    "execution": {
     "iopub.execute_input": "2023-03-21T03:29:05.786657Z",
     "iopub.status.busy": "2023-03-21T03:29:05.785098Z",
     "iopub.status.idle": "2023-03-21T03:29:05.816231Z",
     "shell.execute_reply": "2023-03-21T03:29:05.814472Z",
     "shell.execute_reply.started": "2023-03-21T03:29:05.786578Z"
    }
   },
   "outputs": [],
   "source": [
    "high_value_players_df2=high_value_players_df1.sort_values('market_value_in_eur',ascending = False)\n",
    "highest_value_players_df2=high_value_players_df1.sort_values('highest_market_value_in_eur',ascending = False)\n",
    "\n",
    "print((high_value_players_df2[['name',\"market_value_in_eur\",\"last_season\"]]).head(15));print(\"*****\")\n",
    "print(highest_value_players_df2[['name',\"highest_market_value_in_eur\",\"last_season\"]].head(15));print(\"*****\")"
   ]
  },
  {
   "cell_type": "markdown",
   "metadata": {},
   "source": [
    "# Statistical Overview"
   ]
  },
  {
   "cell_type": "code",
   "execution_count": null,
   "metadata": {
    "_kg_hide-output": true,
    "execution": {
     "iopub.execute_input": "2023-03-21T03:29:05.818724Z",
     "iopub.status.busy": "2023-03-21T03:29:05.818185Z",
     "iopub.status.idle": "2023-03-21T03:29:07.176128Z",
     "shell.execute_reply": "2023-03-21T03:29:07.174286Z",
     "shell.execute_reply.started": "2023-03-21T03:29:05.81866Z"
    },
    "scrolled": true
   },
   "outputs": [],
   "source": [
    "# print info and describe for each dataframe\n",
    "\n",
    "for i, df in enumerate(dataframes):\n",
    "    print(\"***********\")\n",
    "    print(df.info())\n",
    "    print(df.describe())"
   ]
  },
  {
   "cell_type": "markdown",
   "metadata": {},
   "source": [
    "# Collating All Player Data\n",
    "\n",
    "Having look at each the data in each of the data files, I'm going to pull all of the data together for each player, so that we can look at feature importance and start to model transfer values."
   ]
  },
  {
   "cell_type": "code",
   "execution_count": null,
   "metadata": {},
   "outputs": [],
   "source": [
    "import pandas as pd\n",
    "\n",
    "# Assuming players_df is your DataFrame\n",
    "# Assuming 'last_season' is a column representing the last season for each player\n",
    "\n",
    "# Filter players with the last season of 2023\n",
    "players_2023 = players_df[players_df['last_season'] == 2023]\n",
    "\n",
    "# Display the filtered DataFrame\n",
    "print(\"Players with the Last Season of 2023:\")\n",
    "print(players_2023.info())\n"
   ]
  },
  {
   "cell_type": "code",
   "execution_count": null,
   "metadata": {},
   "outputs": [],
   "source": [
    "players_df = players_2023"
   ]
  },
  {
   "cell_type": "code",
   "execution_count": null,
   "metadata": {
    "execution": {
     "iopub.execute_input": "2023-03-21T03:29:07.178799Z",
     "iopub.status.busy": "2023-03-21T03:29:07.178323Z",
     "iopub.status.idle": "2023-03-21T03:30:41.519569Z",
     "shell.execute_reply": "2023-03-21T03:30:41.518209Z",
     "shell.execute_reply.started": "2023-03-21T03:29:07.178758Z"
    }
   },
   "outputs": [],
   "source": [
    "# This was by attempt to collate all of the player data, but i found a far more elegant solution from LOIS CORDEIRO see below\n",
    "\n",
    "#Start with players_df\n",
    "merged_players_df=players_df.drop(['current_club_id', 'city_of_birth', 'date_of_birth','first_name', 'last_name', 'player_code', 'image_url', 'url'], axis=1)\n",
    "\n",
    "#next look at clubs_df\n",
    "merged_players_df = merged_players_df.reindex(columns = merged_players_df.columns.tolist() + ['club_value','squad_size','goals_2022','games_2022','assists_2022','minutes_played_2022','goals_against_2022','goals_for_2022','clean_sheet_2022'])\n",
    "for player_id in merged_players_df.player_id.unique():\n",
    "    #print(players_df.current_club_id[(players_df.player_id==player_id)])\n",
    "    club_id= players_df.current_club_id[(players_df.player_id==player_id)]\n",
    "    #print(clubs_df.total_market_value[(clubs_df.club_id==int(club_id))])\n",
    "    #print(clubs_df.squad_size[(clubs_df.club_id==int(club_id))])\n",
    "    try:\n",
    "        merged_players_df.club_value[(players_df.player_id==player_id)]=int(clubs_df.total_market_value[(clubs_df.club_id==int(club_id))])\n",
    "    except:\n",
    "        merged_players_df.club_value[(players_df.player_id==player_id)]='NaN'  \n",
    "    merged_players_df.squad_size[(players_df.player_id==player_id)]=int((clubs_df.squad_size[(clubs_df.club_id==int(club_id))]))\n",
    "#sort column order\n",
    "columns=['player_id','games_2022','minutes_played_2022','goals_2022','assists_2022','goals_against_2022','goals_for_2022','clean_sheet_2022','name','position','sub_position','last_season','foot','height_in_cm','age','country_of_citizenship','country_of_birth','current_club_name','club_value','squad_size','current_club_domestic_competition_id','agent_name','contract_expiration_date','term_days_remaining','market_value_in_eur','highest_market_value_in_eur']\n",
    "merged_players_df=merged_players_df[columns]\n",
    "#print(merged_players_df.head())"
   ]
  },
  {
   "cell_type": "code",
   "execution_count": null,
   "metadata": {},
   "outputs": [],
   "source": [
    "# merge games and appearances"
   ]
  },
  {
   "cell_type": "code",
   "execution_count": null,
   "metadata": {
    "scrolled": true
   },
   "outputs": [],
   "source": [
    "appearances_df.info()"
   ]
  },
  {
   "cell_type": "code",
   "execution_count": null,
   "metadata": {},
   "outputs": [],
   "source": [
    "games_df.info()"
   ]
  },
  {
   "cell_type": "code",
   "execution_count": null,
   "metadata": {
    "scrolled": true
   },
   "outputs": [],
   "source": [
    "import pandas as pd\n",
    "\n",
    "# Assuming your dataframes are named games_df and appearances_df\n",
    "merged_df = pd.merge(games_df, appearances_df, on='game_id', how='inner')\n",
    "\n",
    "# Display information about the merged dataframe\n",
    "merged_df.info()\n"
   ]
  },
  {
   "cell_type": "code",
   "execution_count": null,
   "metadata": {},
   "outputs": [],
   "source": [
    "# Assuming your merged dataframe is named merged_df\n",
    "merged_df_2023 = merged_df[merged_df['season'] == 2022]\n",
    "\n",
    "# Display information about the filtered dataframe\n",
    "merged_df_2023.info()\n"
   ]
  },
  {
   "cell_type": "code",
   "execution_count": null,
   "metadata": {},
   "outputs": [],
   "source": [
    "# Assuming your dataframe is named merged_df_2023\n",
    "player_goals_sum = merged_df_2023.groupby('player_name')['goals'].sum().reset_index()\n",
    "\n",
    "# Select the top 10 players based on the sum of goals\n",
    "top_10_players = player_goals_sum.nlargest(10, 'goals')\n",
    "\n",
    "# Print the top 10 players and their total goals\n",
    "print(top_10_players[['player_name', 'goals']])\n"
   ]
  },
  {
   "cell_type": "code",
   "execution_count": null,
   "metadata": {},
   "outputs": [],
   "source": [
    "games_and_appearances_df = merged_df_2023"
   ]
  },
  {
   "cell_type": "code",
   "execution_count": null,
   "metadata": {},
   "outputs": [],
   "source": [
    "games_and_appearances_df.info()"
   ]
  },
  {
   "cell_type": "code",
   "execution_count": null,
   "metadata": {},
   "outputs": [],
   "source": [
    "merged_players_df.info()"
   ]
  },
  {
   "cell_type": "code",
   "execution_count": null,
   "metadata": {
    "execution": {
     "iopub.execute_input": "2023-03-21T03:30:41.521757Z",
     "iopub.status.busy": "2023-03-21T03:30:41.521306Z",
     "iopub.status.idle": "2023-03-21T03:33:28.234953Z",
     "shell.execute_reply": "2023-03-21T03:33:28.233445Z",
     "shell.execute_reply.started": "2023-03-21T03:30:41.521716Z"
    }
   },
   "outputs": [],
   "source": [
    "#collate stats game, appearance and goal date for each player.\n",
    "#code based on code from luis gasparcordeiro's notebook at https://www.kaggle.com/code/luisgasparcordeiro/market-value-eda/notebook\n",
    "\n",
    "#merge games and appearances   \n",
    "games_and_appearances_df = appearances_df.merge(games_df, on=['game_id'], how='left')\n",
    "season = 2022\n",
    "\n",
    "#create a function to collate player stats\n",
    "def player_stats(player_id, season, df):\n",
    "    df = games_and_appearances_df[games_and_appearances_df['player_id'] == player_id]\n",
    "    df =  df[ df['season'] == season]    \n",
    "    if (df.shape[0] == 0):\n",
    "        Out = [(np.nan, season,0,0,0,0,0,0,0,0,0)]\n",
    "        out_df = pd.DataFrame(data = Out, columns = ['player_id','season','goals','games',\n",
    "                                                     'assists','minutes_played','goals_for','goals_against','clean_sheet','yellow_cards','red_cards'])\n",
    "        return out_df    \n",
    "    else:       \n",
    "        df[\"goals_for\"] = df.apply(lambda row: row['home_club_goals'] if row['home_club_id'] == row['player_club_id'] \n",
    "            else row['away_club_goals'] if row['away_club_id'] == row['player_club_id'] \n",
    "            else np.nan, axis=1)\n",
    "        df[\"goals_against\"] = df.apply(lambda row: row['away_club_goals'] if row['home_club_id'] == row['player_club_id'] \n",
    "            else row['home_club_goals'] if row['away_club_id'] == row['player_club_id'] \n",
    "            else np.nan, axis=1)\n",
    "        df['clean_sheet'] = df.apply(lambda row: 1 if row['goals_against'] == 0\n",
    "            else 0 if row['goals_against'] > 0\n",
    "            else np.nan, axis=1)\n",
    "        df = df.groupby(['player_id',\"season\"],as_index=False).agg({'goals': 'sum', 'game_id': 'nunique', \n",
    "                                                                      'assists': 'sum', 'minutes_played' : 'sum', 'goals_for' : 'sum',\n",
    "                                                                      'goals_against' : 'sum', 'clean_sheet' : 'sum','yellow_cards':'sum','red_cards':'sum'})\n",
    "        out_df = df.rename(columns={'game_id': 'games'})\n",
    "        return out_df\n",
    "#print(player_stats(67064, 2014, games_and_appearances_df)) #test function works.\n",
    "\n",
    "#iterate through players\n",
    "for index in merged_players_df.index:\n",
    "    id = merged_players_df.loc[index][0]\n",
    "    #print(id)\n",
    "    name = merged_players_df.loc[index][1]\n",
    "    stats = player_stats(id, season, games_and_appearances_df)\n",
    "    try:\n",
    "        merged_players_df.at[index,'games_{}'.format(season)]= stats['games'][0]\n",
    "        merged_players_df.at[index,'goals_{}'.format(season)]= stats['goals'][0]\n",
    "        merged_players_df.at[index,'assists_{}'.format(season)]= stats['assists'][0]\n",
    "        merged_players_df.at[index,'minutes_played_{}'.format(season)]= stats['minutes_played'][0]\n",
    "        merged_players_df.at[index,'goals_for_{}'.format(season)]= stats['goals_for'][0]\n",
    "        merged_players_df.at[index,'goals_against_{}'.format(season)]= stats['goals_against'][0]\n",
    "        merged_players_df.at[index,'clean_sheet_{}'.format(season)]= stats['clean_sheet'][0]\n",
    "        merged_players_df.at[index,'yellow_cards_{}'.format(season)]= stats['yellow_cards'][0]\n",
    "        merged_players_df.at[index,'red_cards_{}'.format(season)]= stats['red_cards'][0]\n",
    "    except:\n",
    "        #print(id)\n",
    "        n=n+1     \n",
    "print('appearance,goal and card data merged')\n",
    "print(merged_players_df.info());#print(merged_players_df.describe())"
   ]
  },
  {
   "cell_type": "code",
   "execution_count": null,
   "metadata": {},
   "outputs": [],
   "source": [
    "merged_players_df.info()"
   ]
  },
  {
   "cell_type": "code",
   "execution_count": null,
   "metadata": {},
   "outputs": [],
   "source": [
    "import pandas as pd\n",
    "\n",
    "# Assuming merged_players_df is your DataFrame\n",
    "print(merged_players_df.columns)\n"
   ]
  },
  {
   "cell_type": "code",
   "execution_count": null,
   "metadata": {},
   "outputs": [],
   "source": []
  },
  {
   "cell_type": "code",
   "execution_count": null,
   "metadata": {},
   "outputs": [],
   "source": []
  },
  {
   "cell_type": "code",
   "execution_count": null,
   "metadata": {},
   "outputs": [],
   "source": []
  },
  {
   "cell_type": "code",
   "execution_count": null,
   "metadata": {},
   "outputs": [],
   "source": [
    "# Feature jadid "
   ]
  },
  {
   "cell_type": "code",
   "execution_count": null,
   "metadata": {},
   "outputs": [],
   "source": [
    "def combine_stats(x,y):\n",
    "    return x+y\n",
    "\n",
    "def aggregate(x):\n",
    "    return sum(x)\n",
    "\n",
    "def name(x):\n",
    "    return x[0]\n",
    "\n",
    "def p90_calculator(*args,total_minutes=0):\n",
    "    total_goals=0\n",
    "    total_minutes_played=0\n",
    "    for stat in args:\n",
    "        total_goals=total_goals+stat\n",
    "    return total_goals / (total_minutes / 90)"
   ]
  },
  {
   "cell_type": "code",
   "execution_count": null,
   "metadata": {},
   "outputs": [],
   "source": [
    "df = merged_players_df\n",
    "\n",
    "\n",
    "# add columns to get direct goal contribution\n",
    "df['direct_goal_contribution2022']=combine_stats(df['goals_2022'],df['assists_2022'])\n",
    "df=df.sort_values('direct_goal_contribution2022', ascending=False)\n",
    "\n",
    "# goals per 90 min calc\n",
    "df['goals_per_90']=p90_calculator(df.goals_2022, total_minutes=df.minutes_played_2022)"
   ]
  },
  {
   "cell_type": "code",
   "execution_count": null,
   "metadata": {},
   "outputs": [],
   "source": [
    "# create x-axis of top 5 players\n",
    "players=df['name'][0:5]\n",
    "\n",
    "# y-axis for their corresponding goals per 90\n",
    "goals_per_90_minutes=df['goals_per_90'][0:5]\n",
    "\n",
    "# scatterplot to visualize\n",
    "plt.figure(figsize=(10, 5))\n",
    "plt.xlabel('Top 5 Strikers Across all Leagues in Europe')\n",
    "plt.ylabel('Expected Goals per 90 Minutes')\n",
    "plt.title('Players Goals per 90')\n",
    "plt.scatter(players, goals_per_90_minutes)\n",
    "\n",
    "df.head()"
   ]
  },
  {
   "cell_type": "code",
   "execution_count": null,
   "metadata": {},
   "outputs": [],
   "source": []
  },
  {
   "cell_type": "code",
   "execution_count": null,
   "metadata": {},
   "outputs": [],
   "source": []
  },
  {
   "cell_type": "code",
   "execution_count": null,
   "metadata": {},
   "outputs": [],
   "source": []
  },
  {
   "cell_type": "code",
   "execution_count": null,
   "metadata": {},
   "outputs": [],
   "source": []
  },
  {
   "cell_type": "code",
   "execution_count": null,
   "metadata": {},
   "outputs": [],
   "source": [
    "merged_players_df = df"
   ]
  },
  {
   "cell_type": "code",
   "execution_count": null,
   "metadata": {},
   "outputs": [],
   "source": [
    "merged_players_df.info()"
   ]
  },
  {
   "cell_type": "code",
   "execution_count": null,
   "metadata": {},
   "outputs": [],
   "source": []
  },
  {
   "cell_type": "code",
   "execution_count": null,
   "metadata": {},
   "outputs": [],
   "source": [
    "# Assuming merged_players_df is your DataFrame\n",
    "merged_players_df['score_2022'] = 0  # Initialize the new score column\n",
    "\n",
    "# Define weights for different metrics based on positions\n",
    "position_weights = {\n",
    "    'Goalkeeper': {'minutes_played': 0.1, 'clean_sheet': 0.4, 'yellow_cards': -0.1, 'red_cards': -0.2},\n",
    "    'Midfield': {'minutes_played': 0.2, 'goals': 0.3, 'assists': 0.3, 'yellow_cards': -0.1, 'red_cards': -0.2},\n",
    "    'Defender': {'minutes_played': 0.2, 'goals_against': -0.6, 'clean_sheet': 0.3, 'yellow_cards': -0.1, 'red_cards': -0.2},\n",
    "    'Attack': {'minutes_played': 0.2, 'goals': 5, 'assists': 0.2},\n",
    "}\n",
    "\n",
    "# Calculate the score based on position-specific weights\n",
    "for position in position_weights.keys():\n",
    "    position_mask = merged_players_df['position'] == position\n",
    "    for metric, weight in position_weights[position].items():\n",
    "        merged_players_df.loc[position_mask, 'score_2022'] += merged_players_df.loc[position_mask, f'{metric}_2022'] * weight\n",
    "\n",
    "# Print the resulting DataFrame with the new 'score_2022' column\n",
    "print(merged_players_df[['name', 'position', 'score_2022']])\n"
   ]
  },
  {
   "cell_type": "code",
   "execution_count": null,
   "metadata": {},
   "outputs": [],
   "source": [
    "# Sort the DataFrame by 'score_2022' in descending order\n",
    "sorted_players_df = merged_players_df.sort_values(by='score_2022', ascending=False)\n",
    "\n",
    "# Print the sorted DataFrame with the new 'score_2022' column\n",
    "print(sorted_players_df[['name', 'position', 'score_2022']].head(100))\n"
   ]
  },
  {
   "cell_type": "code",
   "execution_count": null,
   "metadata": {},
   "outputs": [],
   "source": [
    "# Calculate the correlation between 'score_2022' and 'market_value_in_eur'\n",
    "correlation = merged_players_df['score_2022'].corr(merged_players_df['market_value_in_eur'])\n",
    "\n",
    "# Print the correlation coefficient\n",
    "print(f\"The correlation between 'score_2022' and 'market_value_in_eur' is: {correlation}\")\n"
   ]
  },
  {
   "cell_type": "code",
   "execution_count": null,
   "metadata": {},
   "outputs": [],
   "source": [
    "merged_players_df.info()"
   ]
  },
  {
   "cell_type": "code",
   "execution_count": null,
   "metadata": {},
   "outputs": [],
   "source": [
    "import pandas as pd\n",
    "\n",
    "# Assuming merged_players_df is your DataFrame\n",
    "# Add 'price_last_year' column representing the market value in 2022\n",
    "merged_players_df['price_last_year'] = 0  # Initialize the column with zeros\n",
    "\n",
    "# Update 'price_last_year' with 'market_value_in_eur' for the year 2022\n",
    "merged_players_df.loc[merged_players_df['last_season'] == 2022, 'price_last_year'] = merged_players_df['market_value_in_eur']\n",
    "\n",
    "# Assuming your DataFrame is named 'merged_players_df'\n",
    "# Filter the DataFrame for last_season <= 2022\n",
    "filtered_df = merged_players_df[merged_players_df['last_season'] <= 2022]\n",
    "\n",
    "# Calculate average price for each player\n",
    "average_prices = filtered_df.groupby('player_id')['market_value_in_eur'].mean()\n",
    "average_prices.shape\n",
    "# # Create a new column 'price_avg' based on the 'player_id' in the original DataFrame\n",
    "# merged_players_df['price_avg'] = merged_players_df['player_id'].map(average_prices)\n",
    "\n",
    "# merged_players_df.info()\n",
    "\n",
    "# Assuming merged_players_df is your DataFrame"
   ]
  },
  {
   "cell_type": "code",
   "execution_count": null,
   "metadata": {},
   "outputs": [],
   "source": [
    "merged_players_df.info()"
   ]
  },
  {
   "cell_type": "code",
   "execution_count": null,
   "metadata": {},
   "outputs": [],
   "source": []
  },
  {
   "cell_type": "code",
   "execution_count": null,
   "metadata": {},
   "outputs": [],
   "source": [
    "# Drop rows where 'last_season' is not 2023\n",
    "filtered_df = merged_players_df.loc[merged_players_df['last_season'] == 2023]\n",
    "\n",
    "# Print the shape of the filtered DataFrame to check the number of rows\n",
    "print(\"Shape of the filtered DataFrame:\", filtered_df.shape)\n",
    "\n",
    "# Optionally, if you want to modify the original DataFrame in-place:\n",
    "# merged_players_df = merged_players_df.loc[merged_players_df['last_season'] == 2023]\n"
   ]
  },
  {
   "cell_type": "code",
   "execution_count": null,
   "metadata": {},
   "outputs": [],
   "source": [
    "filtered_df.info()"
   ]
  },
  {
   "cell_type": "code",
   "execution_count": null,
   "metadata": {},
   "outputs": [],
   "source": [
    "# Assuming your DataFrame is named filtered_df\n",
    "top_10_club_values = filtered_df.groupby('current_club_name')['club_value'].sum().sort_values(ascending=False).head(10)\n",
    "\n",
    "# Display the top 10 unique club values based on club_value\n",
    "print(top_10_club_values)\n"
   ]
  },
  {
   "cell_type": "code",
   "execution_count": null,
   "metadata": {},
   "outputs": [],
   "source": [
    "merged_players_df = filtered_df"
   ]
  },
  {
   "cell_type": "code",
   "execution_count": null,
   "metadata": {},
   "outputs": [],
   "source": [
    "temp = filtered_df"
   ]
  },
  {
   "cell_type": "code",
   "execution_count": null,
   "metadata": {},
   "outputs": [],
   "source": [
    "# Print unique values in the 'last_season' column\n",
    "unique_last_season_values = merged_players_df['last_season'].unique()\n",
    "\n",
    "# Print the result\n",
    "print(\"Unique values in the 'last_season' column:\")\n",
    "print(unique_last_season_values)\n"
   ]
  },
  {
   "cell_type": "code",
   "execution_count": null,
   "metadata": {},
   "outputs": [],
   "source": []
  },
  {
   "cell_type": "code",
   "execution_count": null,
   "metadata": {},
   "outputs": [],
   "source": []
  },
  {
   "cell_type": "code",
   "execution_count": null,
   "metadata": {},
   "outputs": [],
   "source": []
  },
  {
   "cell_type": "code",
   "execution_count": null,
   "metadata": {},
   "outputs": [],
   "source": []
  },
  {
   "cell_type": "markdown",
   "metadata": {},
   "source": [
    "# Pearson Correlation of Features"
   ]
  },
  {
   "cell_type": "code",
   "execution_count": null,
   "metadata": {
    "execution": {
     "iopub.execute_input": "2023-03-21T03:33:54.763204Z",
     "iopub.status.busy": "2023-03-21T03:33:54.762274Z",
     "iopub.status.idle": "2023-03-21T03:33:56.450173Z",
     "shell.execute_reply": "2023-03-21T03:33:56.448576Z",
     "shell.execute_reply.started": "2023-03-21T03:33:54.763156Z"
    }
   },
   "outputs": [],
   "source": [
    "colormap = plt.cm.RdBu\n",
    "plt.figure(figsize=(14,12))\n",
    "plt.title('Pearson Correlation of Features', y=1.05, size=15)\n",
    "features_df=merged_players_df.drop(['player_id','name','position','sub_position','last_season','foot','height_in_cm','country_of_citizenship','country_of_birth','current_club_name','current_club_domestic_competition_id','agent_name','contract_expiration_date'],axis=1)\n",
    "print(features_df.columns)\n",
    "sns.heatmap(features_df.astype(float).corr(),linewidths=0.1,vmax=1.0,square=True, cmap=colormap, linecolor='white', annot=True)"
   ]
  },
  {
   "cell_type": "code",
   "execution_count": null,
   "metadata": {},
   "outputs": [],
   "source": [
    "import matplotlib.pyplot as plt\n",
    "import seaborn as sns\n",
    "\n",
    "# Get the columns of the DataFrame\n",
    "columns_for_correlation = filtered_df.columns.tolist()\n",
    "\n",
    "# Print or use the variable as needed\n",
    "print(columns_for_correlation)\n",
    "\n",
    "\n",
    "# Extract the subset of columns for correlation analysis\n",
    "correlation_df = merged_players_df[columns_for_correlation]\n",
    "\n",
    "# Create a correlation matrix focused on 'market_value_in_eur'\n",
    "correlation_market_value = correlation_df.corr()['market_value_in_eur']\n",
    "\n",
    "# Set up the matplotlib figure\n",
    "plt.figure(figsize=(10, 8))\n",
    "plt.title('Pearson Correlation with market_value_in_eur', y=1.05, size=15)\n",
    "\n",
    "# Create a bar plot for correlation with market_value_in_eur\n",
    "sns.barplot(x=correlation_market_value.index, y=correlation_market_value.values, palette='coolwarm')\n",
    "\n",
    "# Show the plot\n",
    "plt.xticks(rotation=45, ha='right')\n",
    "plt.show()\n"
   ]
  },
  {
   "cell_type": "code",
   "execution_count": null,
   "metadata": {},
   "outputs": [],
   "source": [
    "merged_players_df.info()"
   ]
  },
  {
   "cell_type": "code",
   "execution_count": null,
   "metadata": {},
   "outputs": [],
   "source": [
    "columns_to_drop = ['player_id', 'name', 'country_of_citizenship', 'current_club_name', 'agent_name', 'contract_expiration_date']\n",
    "merged_players_df = merged_players_df.drop(columns=columns_to_drop)\n"
   ]
  },
  {
   "cell_type": "code",
   "execution_count": null,
   "metadata": {},
   "outputs": [],
   "source": [
    "merged_players_df.info()"
   ]
  },
  {
   "cell_type": "markdown",
   "metadata": {},
   "source": [
    "# Handle missing values\n",
    "handle missing values by imputing the mean for numerical columns and the mode (most common value) for categorical columns:"
   ]
  },
  {
   "cell_type": "code",
   "execution_count": null,
   "metadata": {},
   "outputs": [],
   "source": [
    "# Impute mean for numerical columns\n",
    "numerical_columns = merged_players_df.select_dtypes(include=['float64']).columns\n",
    "merged_players_df[numerical_columns] = merged_players_df[numerical_columns].fillna(merged_players_df[numerical_columns].mean())\n",
    "\n",
    "# Impute mode for categorical columns\n",
    "categorical_columns = merged_players_df.select_dtypes(include=['object']).columns\n",
    "merged_players_df[categorical_columns] = merged_players_df[categorical_columns].apply(lambda x: x.fillna(x.mode()[0]))\n"
   ]
  },
  {
   "cell_type": "code",
   "execution_count": null,
   "metadata": {},
   "outputs": [],
   "source": [
    "merged_players_df.info()"
   ]
  },
  {
   "cell_type": "markdown",
   "metadata": {},
   "source": [
    "## Distribution of players based on positions"
   ]
  },
  {
   "cell_type": "code",
   "execution_count": null,
   "metadata": {},
   "outputs": [],
   "source": [
    "import matplotlib.pyplot as plt\n",
    "import pandas as pd\n",
    "import numpy as np\n",
    "\n",
    "# Assuming df is your DataFrame\n",
    "# Replace 'position' with the actual column name in your dataset\n",
    "positions_order = df[df['position'] != 'Missing']['position'].unique()\n",
    "positions_count = df[df['position'] != 'Missing']['position'].value_counts()\n",
    "\n",
    "# Total count of entries in the DataFrame\n",
    "total_count = len(df[df['position'] != 'Missing'])\n",
    "\n",
    "# Set up the football pitch\n",
    "fig, ax = plt.subplots(figsize=(12, 8))\n",
    "pitch = plt.Rectangle((0, 0), 25, 100, linewidth=5, edgecolor='green', facecolor='none')\n",
    "ax.add_patch(pitch)\n",
    "\n",
    "# Find the starting position dynamically\n",
    "starting_position = 25 - len(positions_order) * 5\n",
    "\n",
    "# Set a larger radius for the circles\n",
    "circle_radius = 4\n",
    "\n",
    "# Plot the positions on the pitch in the specified order with circles\n",
    "for i, position in enumerate(positions_order):\n",
    "    count = positions_count.get(position, 0)\n",
    "    percentage = (count / total_count) * 100\n",
    "\n",
    "    # Adjust the x-coordinate dynamically with more space to the left\n",
    "    text_location = (starting_position + i * 5, 50)\n",
    "\n",
    "    # Enhance aesthetics with circles and colors\n",
    "    circle = plt.Circle(text_location, radius=circle_radius, color=np.random.rand(3,))\n",
    "    ax.add_patch(circle)\n",
    "    ax.text(*text_location, f'{position}\\n{percentage:.2f}%', fontsize=15, ha='center', va='center', color='white')\n",
    "\n",
    "# Add penalty area on the right side\n",
    "penalty_area = plt.Rectangle((20, 30), 5, 40, linewidth=5, edgecolor='green', facecolor='none')\n",
    "ax.add_patch(penalty_area)\n",
    "\n",
    "# Set axis limits and remove axis labels\n",
    "ax.set_xlim(0, 25)\n",
    "ax.set_ylim(0, 100)\n",
    "ax.set_xticks([])\n",
    "ax.set_yticks([])\n",
    "\n",
    "plt.show()\n"
   ]
  },
  {
   "cell_type": "code",
   "execution_count": null,
   "metadata": {},
   "outputs": [],
   "source": []
  },
  {
   "cell_type": "markdown",
   "metadata": {},
   "source": [
    "## Distribution of players with 30000000 and more market values!"
   ]
  },
  {
   "cell_type": "code",
   "execution_count": null,
   "metadata": {},
   "outputs": [],
   "source": [
    "import matplotlib.pyplot as plt\n",
    "import pandas as pd\n",
    "import numpy as np\n",
    "\n",
    "# Assuming df is your DataFrame\n",
    "# Replace 'position' and 'market_value_in_eur' with the actual column names in your dataset\n",
    "filtered_df = df[(df['position'] != 'Missing') & (df['market_value_in_eur'] >= 30000000)]\n",
    "\n",
    "positions_order = filtered_df['position'].unique()\n",
    "positions_count = filtered_df['position'].value_counts()\n",
    "\n",
    "# Total count of entries in the filtered DataFrame\n",
    "total_count = len(filtered_df)\n",
    "\n",
    "# Set up the football pitch\n",
    "fig, ax = plt.subplots(figsize=(12, 8))\n",
    "pitch = plt.Rectangle((0, 0), 25, 100, linewidth=5, edgecolor='green', facecolor='none')\n",
    "ax.add_patch(pitch)\n",
    "\n",
    "# Find the starting position dynamically\n",
    "starting_position = 25 - len(positions_order) * 5\n",
    "\n",
    "# Set a larger radius for the circles\n",
    "circle_radius = 4\n",
    "\n",
    "# Plot the positions on the pitch in the specified order with circles\n",
    "for i, position in enumerate(positions_order):\n",
    "    count = positions_count.get(position, 0)\n",
    "    percentage = (count / total_count) * 100\n",
    "\n",
    "    # Adjust the x-coordinate dynamically with more space to the left\n",
    "    text_location = (starting_position + i * 5, 50)\n",
    "\n",
    "    # Enhance aesthetics with circles and colors\n",
    "    circle = plt.Circle(text_location, radius=circle_radius, color=np.random.rand(3,))\n",
    "    ax.add_patch(circle)\n",
    "    ax.text(*text_location, f'{position}\\n{percentage:.2f}%', fontsize=15, ha='center', va='center', color='white')\n",
    "\n",
    "# Add penalty area on the right side\n",
    "penalty_area = plt.Rectangle((20, 30), 5, 40, linewidth=5, edgecolor='green', facecolor='none')\n",
    "ax.add_patch(penalty_area)\n",
    "\n",
    "# Set axis limits and remove axis labels\n",
    "ax.set_xlim(0, 25)\n",
    "ax.set_ylim(0, 100)\n",
    "ax.set_xticks([])\n",
    "ax.set_yticks([])\n",
    "\n",
    "plt.show()\n"
   ]
  },
  {
   "cell_type": "code",
   "execution_count": null,
   "metadata": {},
   "outputs": [],
   "source": []
  },
  {
   "cell_type": "code",
   "execution_count": null,
   "metadata": {},
   "outputs": [],
   "source": []
  },
  {
   "cell_type": "markdown",
   "metadata": {},
   "source": [
    "# Encoding Categorical Variables:"
   ]
  },
  {
   "cell_type": "code",
   "execution_count": null,
   "metadata": {},
   "outputs": [],
   "source": [
    "merged_players_df = pd.get_dummies(merged_players_df, columns=['position', 'sub_position', 'foot', 'country_of_birth', 'current_club_domestic_competition_id'], drop_first=True)\n"
   ]
  },
  {
   "cell_type": "code",
   "execution_count": null,
   "metadata": {},
   "outputs": [],
   "source": []
  },
  {
   "cell_type": "code",
   "execution_count": null,
   "metadata": {},
   "outputs": [],
   "source": []
  },
  {
   "cell_type": "code",
   "execution_count": null,
   "metadata": {},
   "outputs": [],
   "source": []
  },
  {
   "cell_type": "markdown",
   "metadata": {},
   "source": [
    "# Hpothesis testing"
   ]
  },
  {
   "cell_type": "code",
   "execution_count": null,
   "metadata": {},
   "outputs": [],
   "source": [
    "merged_players_df.info()"
   ]
  },
  {
   "cell_type": "markdown",
   "metadata": {},
   "source": [
    "#### test whether there is a significant difference in the 'market_value_in_eur' between players with different foot preferences (left and right foot)"
   ]
  },
  {
   "cell_type": "code",
   "execution_count": null,
   "metadata": {},
   "outputs": [],
   "source": [
    "import pandas as pd\n",
    "from scipy.stats import f_oneway\n",
    "# Separate the data into groups based on foot preference\n",
    "left_foot_players = merged_players_df[merged_players_df['foot_left'] == True]['market_value_in_eur'].dropna()\n",
    "right_foot_players = merged_players_df[merged_players_df['foot_right'] == True]['market_value_in_eur'].dropna()\n",
    "both_foot_players = merged_players_df[(merged_players_df['foot_left'] != True) & (merged_players_df['foot_right'] != True)]['market_value_in_eur'].dropna()\n",
    "\n",
    "# Print summary statistics for each group\n",
    "print(\"Left Foot Players:\")\n",
    "print(left_foot_players.describe())\n",
    "\n",
    "print(\"\\nRight Foot Players:\")\n",
    "print(right_foot_players.describe())\n",
    "\n",
    "print(\"\\nBoth Foot Players:\")\n",
    "print(both_foot_players.describe())\n",
    "\n",
    "# Perform one-way ANOVA\n",
    "f_stat, p_value = f_oneway(left_foot_players, right_foot_players, both_foot_players)\n",
    "\n",
    "# Display the results\n",
    "print(f'\\nF-statistic: {f_stat}')\n",
    "print(f'P-value: {p_value}')\n",
    "\n",
    "# Check significance\n",
    "alpha = 0.05\n",
    "if p_value < alpha:\n",
    "    print(\"Reject the null hypothesis: There is a significant difference in market values between foot preference groups.\")\n",
    "else:\n",
    "    print(\"Fail to reject the null hypothesis: There is no significant difference in market values between foot preference groups.\")\n"
   ]
  },
  {
   "cell_type": "markdown",
   "metadata": {},
   "source": [
    "### Analysis of Variance (ANOVA) test to investigate whether there is a significant difference in the average market values between players of different positions."
   ]
  },
  {
   "cell_type": "code",
   "execution_count": null,
   "metadata": {},
   "outputs": [],
   "source": [
    "filtered_columns = merged_players_df.filter(regex='sub_position_*')\n",
    "\n",
    "filtered_columns"
   ]
  },
  {
   "cell_type": "code",
   "execution_count": null,
   "metadata": {},
   "outputs": [],
   "source": [
    "import scipy.stats as stats\n",
    "\n",
    "# Define the binary position fields\n",
    "binary_position_fields = ['position_Defender', 'position_Goalkeeper', 'position_Midfield', 'position_Missing']\n",
    "\n",
    "# Filter the DataFrame to include only numeric columns and the binary position fields\n",
    "numeric_and_binary_columns = ['market_value_in_eur'] + binary_position_fields\n",
    "filtered_df_anova = merged_players_df[numeric_and_binary_columns]\n",
    "\n",
    "# Drop rows with missing values in 'market_value_in_eur'\n",
    "filtered_df_anova = filtered_df_anova.dropna(subset=['market_value_in_eur'])\n",
    "\n",
    "# Perform ANOVA test\n",
    "anova_result = stats.f_oneway(\n",
    "    *[group['market_value_in_eur'] for name, group in filtered_df_anova.groupby(binary_position_fields)]\n",
    ")\n",
    "\n",
    "# Display the ANOVA results\n",
    "print(\"ANOVA Results:\")\n",
    "print(anova_result)\n",
    "\n",
    "# Interpret the results\n",
    "if anova_result.pvalue < 0.05:\n",
    "    print(\"\\nThere is a significant difference in the average market values between players of different positions.\")\n",
    "else:\n",
    "    print(\"\\nThe average market values between players of different positions are not significantly different.\")\n"
   ]
  },
  {
   "cell_type": "markdown",
   "metadata": {},
   "source": [
    "### market values of players across different age groups"
   ]
  },
  {
   "cell_type": "code",
   "execution_count": null,
   "metadata": {},
   "outputs": [],
   "source": [
    "# Specify the number of age groups\n",
    "num_age_groups = 5\n",
    "\n",
    "# Create age groups based on quantiles\n",
    "merged_players_df['age_group'] = pd.qcut(merged_players_df['age'], q=num_age_groups, labels=False)\n",
    "\n",
    "# Filter the DataFrame to include only numeric columns and the 'age_group' column\n",
    "numeric_columns_for_age = ['market_value_in_eur']\n",
    "numeric_columns_for_age.append('age_group')\n",
    "filtered_age_df = merged_players_df[numeric_columns_for_age]\n",
    "\n",
    "# Perform ANOVA test\n",
    "anova_age_result = stats.f_oneway(\n",
    "    *[group['market_value_in_eur'] for name, group in filtered_age_df.groupby('age_group')]\n",
    ")\n",
    "\n",
    "# Display the ANOVA results for age groups\n",
    "print(\"ANOVA Results for Age Groups:\")\n",
    "print(anova_age_result)\n",
    "\n",
    "# Interpret the results\n",
    "if anova_age_result.pvalue < 0.05:\n",
    "    print(\"\\nThere is a significant difference in the market values of players across different age groups.\")\n",
    "else:\n",
    "    print(\"\\nThe market values of players across different age groups are not significantly different.\")\n"
   ]
  },
  {
   "cell_type": "code",
   "execution_count": null,
   "metadata": {},
   "outputs": [],
   "source": []
  },
  {
   "cell_type": "markdown",
   "metadata": {},
   "source": [
    "# Splitting the Data"
   ]
  },
  {
   "cell_type": "code",
   "execution_count": null,
   "metadata": {},
   "outputs": [],
   "source": [
    "# Splitting the Data\n",
    "from sklearn.model_selection import train_test_split\n",
    "\n",
    "X = merged_players_df.drop('market_value_in_eur', axis=1)  # Features\n",
    "y = merged_players_df['market_value_in_eur']  # Target variable\n",
    "\n",
    "X_train, X_test, y_train, y_test = train_test_split(X, y, test_size=0.2, random_state=42)\n"
   ]
  },
  {
   "cell_type": "code",
   "execution_count": null,
   "metadata": {},
   "outputs": [],
   "source": [
    "# Import necessary libraries\n",
    "from sklearn.linear_model import LinearRegression\n",
    "from sklearn.tree import DecisionTreeRegressor\n",
    "from sklearn.ensemble import RandomForestRegressor, GradientBoostingRegressor\n",
    "from sklearn.svm import SVR\n",
    "from sklearn.metrics import r2_score\n",
    "\n",
    "# Initialize models\n",
    "models = {\n",
    "    'Linear Regression': LinearRegression(),\n",
    "    'Decision Tree': DecisionTreeRegressor(random_state=42),\n",
    "    'Random Forest': RandomForestRegressor(random_state=42),\n",
    "    'Gradient Boosting': GradientBoostingRegressor(random_state=42),\n",
    "    'Support Vector Machine': SVR()\n",
    "}\n",
    "\n",
    "# Train and evaluate models\n",
    "for model_name, model in models.items():\n",
    "    # Train the model\n",
    "    model.fit(X_train, y_train)\n",
    "    \n",
    "    # Make predictions\n",
    "    y_pred = model.predict(X_test)\n",
    "    \n",
    "    # Evaluate the model\n",
    "    r2 = r2_score(y_test, y_pred)\n",
    "    \n",
    "    # Display the results\n",
    "    print(f\"Model: {model_name}\")\n",
    "    print(f\"R-squared Score: {r2}\")\n",
    "    print(\"--------\")\n"
   ]
  },
  {
   "cell_type": "code",
   "execution_count": null,
   "metadata": {},
   "outputs": [],
   "source": [
    "# Import necessary libraries\n",
    "from sklearn.linear_model import LinearRegression\n",
    "from sklearn.tree import DecisionTreeRegressor\n",
    "from sklearn.ensemble import RandomForestRegressor, GradientBoostingRegressor\n",
    "from sklearn.svm import SVR\n",
    "from sklearn.metrics import r2_score, mean_absolute_error, mean_squared_error, explained_variance_score\n",
    "\n",
    "# Initialize models\n",
    "models = {\n",
    "    'Linear Regression': LinearRegression(),\n",
    "    'Decision Tree': DecisionTreeRegressor(random_state=42),\n",
    "    'Random Forest': RandomForestRegressor(random_state=42),\n",
    "    'Gradient Boosting': GradientBoostingRegressor(random_state=42),\n",
    "    'Support Vector Machine': SVR()\n",
    "}\n",
    "\n",
    "# Train and evaluate models\n",
    "for model_name, model in models.items():\n",
    "    # Train the model\n",
    "    model.fit(X_train, y_train)\n",
    "    \n",
    "    # Make predictions\n",
    "    y_pred = model.predict(X_test)\n",
    "    \n",
    "    # Evaluate the model\n",
    "    r2 = r2_score(y_test, y_pred)\n",
    "    mae = mean_absolute_error(y_test, y_pred)\n",
    "    mse = mean_squared_error(y_test, y_pred)\n",
    "    rmse = mean_squared_error(y_test, y_pred, squared=False)\n",
    "    explained_var = explained_variance_score(y_test, y_pred)\n",
    "    \n",
    "    # Display the results\n",
    "    print(f\"Model: {model_name}\")\n",
    "    print(f\"R-squared Score: {r2}\")\n",
    "    print(f\"Mean Absolute Error: {mae}\")\n",
    "    print(f\"Mean Squared Error: {mse}\")\n",
    "    print(f\"Root Mean Squared Error: {rmse}\")\n",
    "    print(f\"Explained Variance Score: {explained_var}\")\n",
    "    print(\"--------\")\n"
   ]
  },
  {
   "cell_type": "markdown",
   "metadata": {},
   "source": [
    "# Observation on  model\n"
   ]
  },
  {
   "cell_type": "markdown",
   "metadata": {},
   "source": [
    "` The negative R-squared score for the Support Vector Machine indicates that this model is not performing well on your data. It's possible that the SVM model may not be suitable for your regression task, or there might be an issue with the model's hyperparameters. Consider adjusting the parameters or trying different models to improve performance.`\n",
    "\n",
    "\n",
    "`In contrast, both Random Forest and Gradient Boosting seem to be performing well, with high R-squared scores. You may want to further tune hyperparameters for these models or consider them for your final prediction.`"
   ]
  },
  {
   "cell_type": "code",
   "execution_count": null,
   "metadata": {},
   "outputs": [],
   "source": []
  },
  {
   "cell_type": "markdown",
   "metadata": {},
   "source": [
    "# Best hyperparameters for Random Forest and Gradient Boosting:"
   ]
  },
  {
   "cell_type": "code",
   "execution_count": null,
   "metadata": {},
   "outputs": [],
   "source": [
    "#Grid Search"
   ]
  },
  {
   "cell_type": "code",
   "execution_count": null,
   "metadata": {},
   "outputs": [],
   "source": [
    "from sklearn.model_selection import GridSearchCV\n",
    "\n",
    "# Define hyperparameter grids for Random Forest and Gradient Boosting\n",
    "rf_param_grid = {\n",
    "    'n_estimators': [50, 100, 200],\n",
    "    'max_depth': [None, 10, 20],\n",
    "    'min_samples_split': [2, 5, 10],\n",
    "    'min_samples_leaf': [1, 2, 4]\n",
    "}\n",
    "\n",
    "gb_param_grid = {\n",
    "    'n_estimators': [50, 100, 200],\n",
    "    'learning_rate': [0.01, 0.1, 0.2],\n",
    "    'max_depth': [3, 4, 5],\n",
    "    'min_samples_split': [2, 5, 10],\n",
    "    'min_samples_leaf': [1, 2, 4]\n",
    "}\n",
    "\n",
    "# Perform grid search for Random Forest\n",
    "rf_grid_search = GridSearchCV(RandomForestRegressor(random_state=42), rf_param_grid, cv=5, scoring='r2')\n",
    "rf_grid_search.fit(X_train, y_train)\n",
    "\n",
    "# Perform grid search for Gradient Boosting\n",
    "gb_grid_search = GridSearchCV(GradientBoostingRegressor(random_state=42), gb_param_grid, cv=5, scoring='r2')\n",
    "gb_grid_search.fit(X_train, y_train)\n",
    "\n",
    "# Print the best hyperparameters for each model\n",
    "print(\"Best Hyperparameters for Random Forest:\")\n",
    "print(rf_grid_search.best_params_)\n",
    "print(\"\\nBest Hyperparameters for Gradient Boosting:\")\n",
    "print(gb_grid_search.best_params_)\n",
    "\n",
    "# Evaluate the models with the best hyperparameters\n",
    "rf_best_model = rf_grid_search.best_estimator_\n",
    "gb_best_model = gb_grid_search.best_estimator_\n",
    "\n",
    "# Evaluate on the test set\n",
    "rf_y_pred = rf_best_model.predict(X_test)\n",
    "gb_y_pred = gb_best_model.predict(X_test)\n",
    "\n",
    "rf_r2 = r2_score(y_test, rf_y_pred)\n",
    "gb_r2 = r2_score(y_test, gb_y_pred)\n",
    "\n",
    "# Display the results\n",
    "print(\"\\nRandom Forest R-squared Score with Best Hyperparameters:\", rf_r2)\n",
    "print(\"Gradient Boosting R-squared Score with Best Hyperparameters:\", gb_r2)\n"
   ]
  },
  {
   "cell_type": "markdown",
   "metadata": {},
   "source": [
    " Best Hyperparameters for Random Forest:\n",
    "{'max_depth': 10, 'min_samples_leaf': 2, 'min_samples_split': 2, 'n_estimators': 200}\n",
    "\n",
    "Best Hyperparameters for Gradient Boosting:\n",
    "{'learning_rate': 0.1, 'max_depth': 5, 'min_samples_leaf': 1, 'min_samples_split': 10, 'n_estimators': 200}\n",
    "\n",
    "Random Forest R-squared Score with Best Hyperparameters: 0.8787846261124929\n",
    "Gradient Boosting R-squared Score with Best Hyperparameters: 0.8834115304962495 "
   ]
  },
  {
   "cell_type": "code",
   "execution_count": null,
   "metadata": {},
   "outputs": [],
   "source": [
    "import numpy as np\n",
    "import pandas as pd\n",
    "import matplotlib.pyplot as plt\n",
    "from sklearn.metrics import mean_squared_error, mean_absolute_error\n",
    "\n",
    "# Assuming you have X_test and y_test for evaluation\n",
    "# Replace these with your actual test set and target values\n",
    "\n",
    "# Evaluate Random Forest\n",
    "rf_model = RandomForestRegressor(max_depth=10, min_samples_leaf=2, min_samples_split=2, n_estimators=200)\n",
    "rf_model.fit(X_train, y_train)\n",
    "rf_predictions = rf_model.predict(X_test)\n",
    "\n",
    "# Calculate additional metrics for Random Forest\n",
    "rf_mse = mean_squared_error(y_test, rf_predictions)\n",
    "rf_mae = mean_absolute_error(y_test, rf_predictions)\n",
    "\n",
    "# Evaluate Gradient Boosting\n",
    "gb_model = GradientBoostingRegressor(learning_rate=0.1, max_depth=5, min_samples_leaf=1, min_samples_split=10, n_estimators=200)\n",
    "gb_model.fit(X_train, y_train)\n",
    "gb_predictions = gb_model.predict(X_test)\n",
    "\n",
    "# Calculate additional metrics for Gradient Boosting\n",
    "gb_mse = mean_squared_error(y_test, gb_predictions)\n",
    "gb_mae = mean_absolute_error(y_test, gb_predictions)\n",
    "\n",
    "# Plot the predictions\n",
    "plt.figure(figsize=(10, 6))\n",
    "\n",
    "plt.subplot(2, 1, 1)\n",
    "plt.scatter(y_test, rf_predictions, alpha=0.5, color='blue')\n",
    "plt.title('Random Forest: True vs. Predicted')\n",
    "plt.xlabel('True Values')\n",
    "plt.ylabel('Predictions')\n",
    "\n",
    "plt.subplot(2, 1, 2)\n",
    "plt.scatter(y_test, gb_predictions, alpha=0.5, color='green')\n",
    "plt.title('Gradient Boosting: True vs. Predicted')\n",
    "plt.xlabel('True Values')\n",
    "plt.ylabel('Predictions')\n",
    "\n",
    "plt.tight_layout()\n",
    "plt.show()\n",
    "\n",
    "# Print the metrics\n",
    "print(\"Random Forest Metrics:\")\n",
    "print(f\"Mean Squared Error: {rf_mse}\")\n",
    "print(f\"Mean Absolute Error: {rf_mae}\")\n",
    "\n",
    "print(\"\\nGradient Boosting Metrics:\")\n",
    "print(f\"Mean Squared Error: {gb_mse}\")\n",
    "print(f\"Mean Absolute Error: {gb_mae}\")\n"
   ]
  },
  {
   "cell_type": "code",
   "execution_count": null,
   "metadata": {},
   "outputs": [],
   "source": [
    "import numpy as np\n",
    "import pandas as pd\n",
    "from sklearn.model_selection import train_test_split\n",
    "from sklearn.preprocessing import StandardScaler\n",
    "from sklearn.metrics import r2_score\n",
    "from sklearn.neural_network import MLPRegressor\n",
    "\n",
    "# Standardize the data (important for neural networks)\n",
    "scaler = StandardScaler()\n",
    "X_train_scaled = scaler.fit_transform(X_train)\n",
    "X_test_scaled = scaler.transform(X_test)\n",
    "\n",
    "# Build a simple neural network model\n",
    "model = MLPRegressor(hidden_layer_sizes=(100, 50), max_iter=500, random_state=42)\n",
    "\n",
    "# Train the model\n",
    "model.fit(X_train_scaled, y_train)\n",
    "\n",
    "# Make predictions on the test set\n",
    "y_pred = model.predict(X_test_scaled)\n",
    "\n",
    "# Evaluate the model\n",
    "r2 = r2_score(y_test, y_pred)\n",
    "\n",
    "# Print the R-squared score\n",
    "print(\"Model: Neural Network\")\n",
    "print(f\"R-squared Score: {r2}\")"
   ]
  },
  {
   "cell_type": "code",
   "execution_count": null,
   "metadata": {
    "scrolled": true
   },
   "outputs": [],
   "source": [
    "# Build a more complex neural network model\n",
    "model = MLPRegressor(\n",
    "    hidden_layer_sizes=(200, 100, 50),  # More layers and neurons\n",
    "    activation='relu',  # Rectified Linear Unit (ReLU) activation function\n",
    "    max_iter=1000,  # Increase the number of iterations\n",
    "    random_state=42\n",
    ")\n",
    "\n",
    "# Train the model\n",
    "model.fit(X_train_scaled, y_train)\n",
    "\n",
    "# Make predictions on the test set\n",
    "y_pred = model.predict(X_test_scaled)\n",
    "\n",
    "# Evaluate the model\n",
    "r2 = r2_score(y_test, y_pred)\n",
    "\n",
    "# Print the R-squared score\n",
    "print(\"Model: Neural Network (More Complex)\")\n",
    "\n",
    "print(f\"R-squared Score: {r2}\")"
   ]
  },
  {
   "cell_type": "code",
   "execution_count": null,
   "metadata": {},
   "outputs": [],
   "source": []
  },
  {
   "cell_type": "code",
   "execution_count": null,
   "metadata": {},
   "outputs": [],
   "source": []
  },
  {
   "cell_type": "code",
   "execution_count": null,
   "metadata": {},
   "outputs": [],
   "source": []
  }
 ],
 "metadata": {
  "kaggle": {
   "accelerator": "none",
   "dataSources": [
    {
     "datasetId": 1071543,
     "sourceId": 7483543,
     "sourceType": "datasetVersion"
    }
   ],
   "isGpuEnabled": false,
   "isInternetEnabled": true,
   "language": "python",
   "sourceType": "notebook"
  },
  "kernelspec": {
   "display_name": "Python 3 (ipykernel)",
   "language": "python",
   "name": "python3"
  },
  "language_info": {
   "codemirror_mode": {
    "name": "ipython",
    "version": 3
   },
   "file_extension": ".py",
   "mimetype": "text/x-python",
   "name": "python",
   "nbconvert_exporter": "python",
   "pygments_lexer": "ipython3",
   "version": "3.10.9"
  }
 },
 "nbformat": 4,
 "nbformat_minor": 4
}
